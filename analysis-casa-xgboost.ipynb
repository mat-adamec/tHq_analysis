{
 "cells": [
  {
   "cell_type": "code",
   "execution_count": 1,
   "metadata": {},
   "outputs": [],
   "source": [
    "%matplotlib inline\n",
    "import numpy as np\n",
    "import awkward as ak\n",
    "import matplotlib.pyplot as plt\n",
    "from uproot_methods import TLorentzVectorArray\n",
    "from coffea import hist\n",
    "import coffea.processor as processor\n",
    "import uproot\n",
    "from collections import defaultdict"
   ]
  },
  {
   "cell_type": "code",
   "execution_count": 2,
   "metadata": {},
   "outputs": [],
   "source": [
    "fileset = {'tHq': ['root://xcache//store/mc/RunIISummer16NanoAODv5/THQ_Hincl_13TeV-madgraph-pythia8_TuneCUETP8M1/NANOAODSIM/PUMoriond17_Nano1June2019_102X_mcRun2_asymptotic_v7-v1/100000/38E83594-51BD-7D46-B96D-620DD60078A7.root',\n",
    "                    'root://xcache//store/mc/RunIISummer16NanoAODv5/THQ_Hincl_13TeV-madgraph-pythia8_TuneCUETP8M1/NANOAODSIM/PUMoriond17_Nano1June2019_102X_mcRun2_asymptotic_v7-v1/100000/3A3BA22C-AA71-2544-810A-6DF4C6BA96FC.root',\n",
    "                    'root://xcache//store/mc/RunIISummer16NanoAODv5/THQ_Hincl_13TeV-madgraph-pythia8_TuneCUETP8M1/NANOAODSIM/PUMoriond17_Nano1June2019_102X_mcRun2_asymptotic_v7-v1/100000/3AFB1F42-BC6D-D44E-86FD-DB93C83F88FF.root',\n",
    "                    'root://xcache//store/mc/RunIISummer16NanoAODv5/THQ_Hincl_13TeV-madgraph-pythia8_TuneCUETP8M1/NANOAODSIM/PUMoriond17_Nano1June2019_102X_mcRun2_asymptotic_v7-v1/100000/A37B4B7A-FB5B-484D-8577-40B860D77D23.root',\n",
    "                    'root://xcache//store/mc/RunIISummer16NanoAODv5/THQ_Hincl_13TeV-madgraph-pythia8_TuneCUETP8M1/NANOAODSIM/PUMoriond17_Nano1June2019_102X_mcRun2_asymptotic_v7-v1/100000/E3C7548E-EE40-BA45-9130-17DF56FBE537.root',\n",
    "                    'root://xcache//store/mc/RunIISummer16NanoAODv5/THQ_Hincl_13TeV-madgraph-pythia8_TuneCUETP8M1/NANOAODSIM/PUMoriond17_Nano1June2019_102X_mcRun2_asymptotic_v7-v1/100000/F9EFC559-09E9-BB48-8150-9AA8B7F02C1C.root'],\n",
    "             'tHW': ['root://xcache//store/mc/RunIISummer16NanoAODv5/THW_Hincl_13TeV-madgraph-pythia8_TuneCUETP8M1/NANOAODSIM/PUMoriond17_Nano1June2019_102X_mcRun2_asymptotic_v7-v1/70000/2806293E-D1DD-4A49-A274-0CC3BA57BBDF.root',\n",
    "                     'root://xcache//store/mc/RunIISummer16NanoAODv5/THW_Hincl_13TeV-madgraph-pythia8_TuneCUETP8M1/NANOAODSIM/PUMoriond17_Nano1June2019_102X_mcRun2_asymptotic_v7-v1/70000/2F19962E-1DFB-A14A-91C2-30B69D5651D3.root',\n",
    "                     'root://xcache//store/mc/RunIISummer16NanoAODv5/THW_Hincl_13TeV-madgraph-pythia8_TuneCUETP8M1/NANOAODSIM/PUMoriond17_Nano1June2019_102X_mcRun2_asymptotic_v7-v1/70000/D9744111-ED04-3F47-A52A-C18424F01609.root',\n",
    "                     'root://xcache//store/mc/RunIISummer16NanoAODv5/THW_Hincl_13TeV-madgraph-pythia8_TuneCUETP8M1/NANOAODSIM/PUMoriond17_Nano1June2019_102X_mcRun2_asymptotic_v7-v1/70000/E4CFA095-E7DB-B449-986D-1A5D21FD1D50.root'],\n",
    "             'ttW': ['root://xcache//store/mc/RunIISummer16NanoAODv5/TTWJetsToLNu_TuneCUETP8M1_13TeV-amcatnloFXFX-madspin-pythia8/NANOAODSIM/PUMoriond17_Nano1June2019_102X_mcRun2_asymptotic_v7_ext1-v1/30000/2E92C41D-6F94-F84B-A46B-61EDFFBEFE5B.root',\n",
    "                     'root://xcache//store/mc/RunIISummer16NanoAODv5/TTWJetsToLNu_TuneCUETP8M1_13TeV-amcatnloFXFX-madspin-pythia8/NANOAODSIM/PUMoriond17_Nano1June2019_102X_mcRun2_asymptotic_v7_ext1-v1/30000/69D60020-75AF-CA42-8D94-99957EEF71DC.root',\n",
    "                     'root://xcache//store/mc/RunIISummer16NanoAODv5/TTWJetsToLNu_TuneCUETP8M1_13TeV-amcatnloFXFX-madspin-pythia8/NANOAODSIM/PUMoriond17_Nano1June2019_102X_mcRun2_asymptotic_v7_ext1-v1/30000/AB62AEC8-6F15-1947-9E22-0059E196EBE5.root',\n",
    "                     'root://xcache//store/mc/RunIISummer16NanoAODv5/TTWJetsToLNu_TuneCUETP8M1_13TeV-amcatnloFXFX-madspin-pythia8/NANOAODSIM/PUMoriond17_Nano1June2019_102X_mcRun2_asymptotic_v7_ext1-v1/30000/EA538168-AF02-774C-9648-9BF72471384D.root',\n",
    "                     'root://xcache//store/mc/RunIISummer16NanoAODv5/TTWJetsToLNu_TuneCUETP8M1_13TeV-amcatnloFXFX-madspin-pythia8/NANOAODSIM/PUMoriond17_Nano1June2019_102X_mcRun2_asymptotic_v7_ext2-v1/120000/2CF42572-162F-F14F-B7CA-96DABCD83589.root',\n",
    "                     'root://xcache//store/mc/RunIISummer16NanoAODv5/TTWJetsToLNu_TuneCUETP8M1_13TeV-amcatnloFXFX-madspin-pythia8/NANOAODSIM/PUMoriond17_Nano1June2019_102X_mcRun2_asymptotic_v7_ext2-v1/120000/4B8C7791-6DFF-5748-B6AF-7FE0F6B5CA1D.root',\n",
    "                     'root://xcache//store/mc/RunIISummer16NanoAODv5/TTWJetsToLNu_TuneCUETP8M1_13TeV-amcatnloFXFX-madspin-pythia8/NANOAODSIM/PUMoriond17_Nano1June2019_102X_mcRun2_asymptotic_v7_ext2-v1/120000/5BF4BF41-CFDB-F447-B034-D806DFE3252C.root',\n",
    "                     'root://xcache//store/mc/RunIISummer16NanoAODv5/TTWJetsToLNu_TuneCUETP8M1_13TeV-amcatnloFXFX-madspin-pythia8/NANOAODSIM/PUMoriond17_Nano1June2019_102X_mcRun2_asymptotic_v7_ext2-v1/120000/794E6532-E576-FB41-A23F-CD078AABC85E.root',\n",
    "                     'root://xcache//store/mc/RunIISummer16NanoAODv5/TTWJetsToLNu_TuneCUETP8M1_13TeV-amcatnloFXFX-madspin-pythia8/NANOAODSIM/PUMoriond17_Nano1June2019_102X_mcRun2_asymptotic_v7_ext2-v1/120000/8102B971-D215-004C-93EE-AE9A6C1907B3.root',\n",
    "                     'root://xcache//store/mc/RunIISummer16NanoAODv5/TTWJetsToLNu_TuneCUETP8M1_13TeV-amcatnloFXFX-madspin-pythia8/NANOAODSIM/PUMoriond17_Nano1June2019_102X_mcRun2_asymptotic_v7_ext2-v1/120000/EF9DC33E-137A-0640-976B-8C3AC89F534E.root',\n",
    "                     'root://xcache//store/mc/RunIISummer16NanoAODv5/TTWJetsToLNu_TuneCUETP8M1_13TeV-amcatnloFXFX-madspin-pythia8/NANOAODSIM/PUMoriond17_Nano1June2019_102X_mcRun2_asymptotic_v7_ext2-v1/120000/FF4BF1D3-A06A-0F44-8458-37984DEA5CAD.root'],\n",
    "             'ttWJets': ['root://xcache//store/mc/RunIISummer16NanoAODv5/ttWJets_13TeV_madgraphMLM/NANOAODSIM/Nano1June2019_102X_mcRun2_asymptotic_v7-v1/250000/028BA117-69BE-B74D-9862-2170CA64B11C.root',\n",
    "                         'root://xcache//store/mc/RunIISummer16NanoAODv5/ttWJets_13TeV_madgraphMLM/NANOAODSIM/Nano1June2019_102X_mcRun2_asymptotic_v7-v1/250000/1ABC137E-5233-044E-B3FE-8574DC6FC943.root',\n",
    "                         'root://xcache//store/mc/RunIISummer16NanoAODv5/ttWJets_13TeV_madgraphMLM/NANOAODSIM/Nano1June2019_102X_mcRun2_asymptotic_v7-v1/250000/2274637A-76F8-4049-B651-F60817E6F775.root',\n",
    "                         'root://xcache//store/mc/RunIISummer16NanoAODv5/ttWJets_13TeV_madgraphMLM/NANOAODSIM/Nano1June2019_102X_mcRun2_asymptotic_v7-v1/250000/2E4A4356-C68F-1B4C-A920-656C7F519328.root',\n",
    "                         'root://xcache//store/mc/RunIISummer16NanoAODv5/ttWJets_13TeV_madgraphMLM/NANOAODSIM/Nano1June2019_102X_mcRun2_asymptotic_v7-v1/250000/3BEEC74F-9E73-1745-BCA2-09E2725C3979.root',\n",
    "                         'root://xcache//store/mc/RunIISummer16NanoAODv5/ttWJets_13TeV_madgraphMLM/NANOAODSIM/Nano1June2019_102X_mcRun2_asymptotic_v7-v1/250000/80CEEF63-623A-8144-AEE6-0BAEB5BC314B.root',\n",
    "                         'root://xcache//store/mc/RunIISummer16NanoAODv5/ttWJets_13TeV_madgraphMLM/NANOAODSIM/Nano1June2019_102X_mcRun2_asymptotic_v7-v1/250000/DA330C53-B0BE-A84F-9308-1BBBC38B095C.root',\n",
    "                         'root://xcache//store/mc/RunIISummer16NanoAODv5/ttWJets_13TeV_madgraphMLM/NANOAODSIM/Nano1June2019_102X_mcRun2_asymptotic_v7-v1/250000/E3EE47DE-4DBB-FC48-84AB-4F9C26B9CCE8.root',\n",
    "                         'root://xcache//store/mc/RunIISummer16NanoAODv5/ttWJets_13TeV_madgraphMLM/NANOAODSIM/Nano1June2019_102X_mcRun2_asymptotic_v7-v1/250000/F597371F-E866-6B47-A185-268F927E3372.root'],\n",
    "#             'ttZ': ['root://xcache//store/mc/RunIISummer16NanoAODv5/TTZToLLNuNu_M-10_TuneCUETP8M1_13TeV-amcatnlo-pythia8/NANOAODSIM/PUMoriond17_Nano1June2019_102X_mcRun2_asymptotic_v7_ext1-v1/40000/5B1499CC-2B27-4F44-95BD-7B1C9907ACCD.root',\n",
    "#                      'root://xcache//store/mc/RunIISummer16NanoAODv5/TTZToLLNuNu_M-10_TuneCUETP8M1_13TeV-amcatnlo-pythia8/NANOAODSIM/PUMoriond17_Nano1June2019_102X_mcRun2_asymptotic_v7_ext1-v1/40000/CDA99173-3C05-1A47-AE70-587B44E6348B.root',\n",
    "#                      'root://xcache//store/mc/RunIISummer16NanoAODv5/TTZToLLNuNu_M-10_TuneCUETP8M1_13TeV-amcatnlo-pythia8/NANOAODSIM/PUMoriond17_Nano1June2019_102X_mcRun2_asymptotic_v7_ext1-v1/60000/28C6248C-D55F-8044-BDFB-696BAC0FE329.root',\n",
    "#                      'root://xcache//store/mc/RunIISummer16NanoAODv5/TTZToLLNuNu_M-10_TuneCUETP8M1_13TeV-amcatnlo-pythia8/NANOAODSIM/PUMoriond17_Nano1June2019_102X_mcRun2_asymptotic_v7_ext1-v1/60000/F8A11DF6-4013-6F4C-BBE9-1759933FF20F.root',\n",
    "#                      'root://xcache//store/mc/RunIISummer16NanoAODv5/TTZToLLNuNu_M-10_TuneCUETP8M1_13TeV-amcatnlo-pythia8/NANOAODSIM/PUMoriond17_Nano1June2019_102X_mcRun2_asymptotic_v7_ext2-v1/110000/308939D7-DA54-E949-958D-7B495723DB4C.root',\n",
    "#                      'root://xcache//store/mc/RunIISummer16NanoAODv5/TTZToLLNuNu_M-10_TuneCUETP8M1_13TeV-amcatnlo-pythia8/NANOAODSIM/PUMoriond17_Nano1June2019_102X_mcRun2_asymptotic_v7_ext2-v1/110000/3A1F9F01-E4BC-A347-8D57-8DBFAA890EAB.root',\n",
    "#                      'root://xcache//store/mc/RunIISummer16NanoAODv5/TTZToLLNuNu_M-10_TuneCUETP8M1_13TeV-amcatnlo-pythia8/NANOAODSIM/PUMoriond17_Nano1June2019_102X_mcRun2_asymptotic_v7_ext2-v1/110000/BF1A0533-7A59-A04C-9A6C-6A5EA4697A06.root',\n",
    "#                      'root://xcache//store/mc/RunIISummer16NanoAODv5/TTZToLLNuNu_M-10_TuneCUETP8M1_13TeV-amcatnlo-pythia8/NANOAODSIM/PUMoriond17_Nano1June2019_102X_mcRun2_asymptotic_v7_ext2-v1/120000/191705EA-1891-6942-8CD2-CD70B0E58893.root',\n",
    "#                      'root://xcache//store/mc/RunIISummer16NanoAODv5/TTZToLLNuNu_M-10_TuneCUETP8M1_13TeV-amcatnlo-pythia8/NANOAODSIM/PUMoriond17_Nano1June2019_102X_mcRun2_asymptotic_v7_ext2-v1/120000/27BD2647-8A2F-7C45-964F-F0277A0A011D.root',\n",
    "#                      'root://xcache//store/mc/RunIISummer16NanoAODv5/TTZToLLNuNu_M-10_TuneCUETP8M1_13TeV-amcatnlo-pythia8/NANOAODSIM/PUMoriond17_Nano1June2019_102X_mcRun2_asymptotic_v7_ext2-v1/120000/56608BD3-2A0E-1941-8386-F498EEC16A61.root',\n",
    "#                      'root://xcache//store/mc/RunIISummer16NanoAODv5/TTZToLLNuNu_M-10_TuneCUETP8M1_13TeV-amcatnlo-pythia8/NANOAODSIM/PUMoriond17_Nano1June2019_102X_mcRun2_asymptotic_v7_ext2-v1/120000/7D898E0C-0752-B948-8BA7-7016BD151BD2.root',\n",
    "#                      'root://xcache//store/mc/RunIISummer16NanoAODv5/TTZToLLNuNu_M-10_TuneCUETP8M1_13TeV-amcatnlo-pythia8/NANOAODSIM/PUMoriond17_Nano1June2019_102X_mcRun2_asymptotic_v7_ext2-v1/120000/97637969-BD4B-0640-8158-17722CB9F631.root',\n",
    "#                      'root://xcache//store/mc/RunIISummer16NanoAODv5/TTZToLLNuNu_M-10_TuneCUETP8M1_13TeV-amcatnlo-pythia8/NANOAODSIM/PUMoriond17_Nano1June2019_102X_mcRun2_asymptotic_v7_ext2-v1/120000/9BEAB5BD-5C7E-B54A-B42E-D81FA4B30A2B.root',\n",
    "#                      'root://xcache//store/mc/RunIISummer16NanoAODv5/TTZToLLNuNu_M-10_TuneCUETP8M1_13TeV-amcatnlo-pythia8/NANOAODSIM/PUMoriond17_Nano1June2019_102X_mcRun2_asymptotic_v7_ext2-v1/120000/C7073B6B-C69E-1B42-B378-7FAC8FF4E856.root',\n",
    "#                      'root://xcache//store/mc/RunIISummer16NanoAODv5/TTZToLLNuNu_M-10_TuneCUETP8M1_13TeV-amcatnlo-pythia8/NANOAODSIM/PUMoriond17_Nano1June2019_102X_mcRun2_asymptotic_v7_ext2-v1/120000/FF986F85-71C4-064D-9759-B0C1ACAE9454.root',\n",
    "#                      'root://xcache//store/mc/RunIISummer16NanoAODv5/TTZToLLNuNu_M-10_TuneCUETP8M1_13TeV-amcatnlo-pythia8/NANOAODSIM/PUMoriond17_Nano1June2019_102X_mcRun2_asymptotic_v7_ext3-v1/130000/34275A2F-313A-6D4D-A7EC-DD18BF9C413B.root',\n",
    "#                      'root://xcache//store/mc/RunIISummer16NanoAODv5/TTZToLLNuNu_M-10_TuneCUETP8M1_13TeV-amcatnlo-pythia8/NANOAODSIM/PUMoriond17_Nano1June2019_102X_mcRun2_asymptotic_v7_ext3-v1/130000/392B4635-E8FF-924C-A5B5-51D19C670F69.root',\n",
    "#                      'root://xcache//store/mc/RunIISummer16NanoAODv5/TTZToLLNuNu_M-10_TuneCUETP8M1_13TeV-amcatnlo-pythia8/NANOAODSIM/PUMoriond17_Nano1June2019_102X_mcRun2_asymptotic_v7_ext3-v1/130000/4C139140-A677-AB49-9DF9-5BBF4FA850D2.root',\n",
    "#                      'root://xcache//store/mc/RunIISummer16NanoAODv5/TTZToLLNuNu_M-10_TuneCUETP8M1_13TeV-amcatnlo-pythia8/NANOAODSIM/PUMoriond17_Nano1June2019_102X_mcRun2_asymptotic_v7_ext3-v1/130000/80416EBE-074F-5C4A-AE5F-6403A9F9E9D9.root',\n",
    "#                      'root://xcache//store/mc/RunIISummer16NanoAODv5/TTZToLLNuNu_M-10_TuneCUETP8M1_13TeV-amcatnlo-pythia8/NANOAODSIM/PUMoriond17_Nano1June2019_102X_mcRun2_asymptotic_v7_ext3-v1/130000/96F276D6-1C38-9F4F-93CE-503B860AB550.root',\n",
    "#                      'root://xcache//store/mc/RunIISummer16NanoAODv5/TTZToLLNuNu_M-10_TuneCUETP8M1_13TeV-amcatnlo-pythia8/NANOAODSIM/PUMoriond17_Nano1June2019_102X_mcRun2_asymptotic_v7_ext3-v1/130000/A1AD2099-D5D6-7A47-AEB6-562F68B04441.root',\n",
    "#                      'root://xcache//store/mc/RunIISummer16NanoAODv5/TTZToLLNuNu_M-10_TuneCUETP8M1_13TeV-amcatnlo-pythia8/NANOAODSIM/PUMoriond17_Nano1June2019_102X_mcRun2_asymptotic_v7_ext3-v1/130000/AAD8B507-CEC2-CE44-9B23-822A451F426C.root'],\n",
    "#             'ttZJets': ['root://xcache//store/mc/RunIISummer16NanoAODv5/ttZJets_13TeV_madgraphMLM/NANOAODSIM/Nano1June2019_102X_mcRun2_asymptotic_v7-v1/40000/12857BB7-7239-B94A-A890-7CB3C79BD057.root',\n",
    "#                          'root://xcache//store/mc/RunIISummer16NanoAODv5/ttZJets_13TeV_madgraphMLM/NANOAODSIM/Nano1June2019_102X_mcRun2_asymptotic_v7-v1/40000/193EA450-873A-3047-BA69-3B1D1EABB771.root',\n",
    "#                          'root://xcache//store/mc/RunIISummer16NanoAODv5/ttZJets_13TeV_madgraphMLM/NANOAODSIM/Nano1June2019_102X_mcRun2_asymptotic_v7-v1/40000/21167A9A-2FDD-C240-AF27-FAA935B0057C.root',\n",
    "#                          'root://xcache//store/mc/RunIISummer16NanoAODv5/ttZJets_13TeV_madgraphMLM/NANOAODSIM/Nano1June2019_102X_mcRun2_asymptotic_v7-v1/40000/576C9504-E9B2-484C-88DB-1F087D4BA6A3.root',\n",
    "#                          'root://xcache//store/mc/RunIISummer16NanoAODv5/ttZJets_13TeV_madgraphMLM/NANOAODSIM/Nano1June2019_102X_mcRun2_asymptotic_v7-v1/40000/5C781945-9A98-7F44-B397-F806603C9A01.root',\n",
    "#                          'root://xcache//store/mc/RunIISummer16NanoAODv5/ttZJets_13TeV_madgraphMLM/NANOAODSIM/Nano1June2019_102X_mcRun2_asymptotic_v7-v1/40000/69E6121A-F0DC-8043-991A-049199E4BCC4.root',\n",
    "#                          'root://xcache//store/mc/RunIISummer16NanoAODv5/ttZJets_13TeV_madgraphMLM/NANOAODSIM/Nano1June2019_102X_mcRun2_asymptotic_v7-v1/40000/72EF6B33-D0AA-6540-BA4A-A760E8194589.root',\n",
    "#                          'root://xcache//store/mc/RunIISummer16NanoAODv5/ttZJets_13TeV_madgraphMLM/NANOAODSIM/Nano1June2019_102X_mcRun2_asymptotic_v7-v1/40000/8B2D64F4-D873-124B-AE6A-0503FF7A0427.root',\n",
    "#                          'root://xcache//store/mc/RunIISummer16NanoAODv5/ttZJets_13TeV_madgraphMLM/NANOAODSIM/Nano1June2019_102X_mcRun2_asymptotic_v7-v1/40000/B865F28C-D9B3-0944-8E01-D0D3B01C4F26.root',\n",
    "#                          'root://xcache//store/mc/RunIISummer16NanoAODv5/ttZJets_13TeV_madgraphMLM/NANOAODSIM/Nano1June2019_102X_mcRun2_asymptotic_v7-v1/40000/C2C66219-4FAA-4C4E-95FB-CA259749AAA4.root',\n",
    "#                          'root://xcache//store/mc/RunIISummer16NanoAODv5/ttZJets_13TeV_madgraphMLM/NANOAODSIM/Nano1June2019_102X_mcRun2_asymptotic_v7-v1/40000/DD8A6F4F-52CF-9142-B264-B402A94CFD09.root',\n",
    "#                          'root://xcache//store/mc/RunIISummer16NanoAODv5/ttZJets_13TeV_madgraphMLM/NANOAODSIM/Nano1June2019_102X_mcRun2_asymptotic_v7-v1/40000/E0D9AB84-E0BF-0C49-9B2E-E003587FF335.root'],\n",
    "#             'ttH': ['root://xcache//store/mc/RunIISummer16NanoAODv5/ttHJetToNonbb_M125_13TeV_amcatnloFXFX_madspin_pythia8_mWCutfix/NANOAODSIM/PUMoriond17_Nano1June2019_102X_mcRun2_asymptotic_v7_ext1-v1/100000/05371F7D-77DA-FD4E-BF1F-9C4B6C7B2BF4.root',\n",
    "#                      'root://xcache//store/mc/RunIISummer16NanoAODv5/ttHJetToNonbb_M125_13TeV_amcatnloFXFX_madspin_pythia8_mWCutfix/NANOAODSIM/PUMoriond17_Nano1June2019_102X_mcRun2_asymptotic_v7_ext1-v1/100000/1097F45B-C2CC-034A-98D5-6A2C38F9E957.root',\n",
    "#                      'root://xcache//store/mc/RunIISummer16NanoAODv5/ttHJetToNonbb_M125_13TeV_amcatnloFXFX_madspin_pythia8_mWCutfix/NANOAODSIM/PUMoriond17_Nano1June2019_102X_mcRun2_asymptotic_v7_ext1-v1/100000/144E050B-AC6C-5046-B9BF-3CB1045651D1.root',\n",
    "#                      'root://xcache//store/mc/RunIISummer16NanoAODv5/ttHJetToNonbb_M125_13TeV_amcatnloFXFX_madspin_pythia8_mWCutfix/NANOAODSIM/PUMoriond17_Nano1June2019_102X_mcRun2_asymptotic_v7_ext1-v1/100000/1F8A2052-DD4D-F24B-AEF7-C6C8DB5E42AC.root',\n",
    "#                      'root://xcache//store/mc/RunIISummer16NanoAODv5/ttHJetToNonbb_M125_13TeV_amcatnloFXFX_madspin_pythia8_mWCutfix/NANOAODSIM/PUMoriond17_Nano1June2019_102X_mcRun2_asymptotic_v7_ext1-v1/100000/2BDDFDC0-1D0E-4141-BCB6-98FDE981E522.root',\n",
    "#                      'root://xcache//store/mc/RunIISummer16NanoAODv5/ttHJetToNonbb_M125_13TeV_amcatnloFXFX_madspin_pythia8_mWCutfix/NANOAODSIM/PUMoriond17_Nano1June2019_102X_mcRun2_asymptotic_v7_ext1-v1/100000/3D3743BD-A2B7-F34E-BBD3-FE98A055B935.root',\n",
    "#                      'root://xcache//store/mc/RunIISummer16NanoAODv5/ttHJetToNonbb_M125_13TeV_amcatnloFXFX_madspin_pythia8_mWCutfix/NANOAODSIM/PUMoriond17_Nano1June2019_102X_mcRun2_asymptotic_v7_ext1-v1/100000/70319D0B-46D5-6840-9FA3-49B990C6E117.root',\n",
    "#                      'root://xcache//store/mc/RunIISummer16NanoAODv5/ttHJetToNonbb_M125_13TeV_amcatnloFXFX_madspin_pythia8_mWCutfix/NANOAODSIM/PUMoriond17_Nano1June2019_102X_mcRun2_asymptotic_v7_ext1-v1/100000/7CF51AAB-6C37-F84E-B091-48C8217EE65E.root',\n",
    "#                      'root://xcache//store/mc/RunIISummer16NanoAODv5/ttHJetToNonbb_M125_13TeV_amcatnloFXFX_madspin_pythia8_mWCutfix/NANOAODSIM/PUMoriond17_Nano1June2019_102X_mcRun2_asymptotic_v7_ext1-v1/100000/90463B9A-2AB6-1D4E-9D7F-4E6AA6B4500C.root',\n",
    "#                      'root://xcache//store/mc/RunIISummer16NanoAODv5/ttHJetToNonbb_M125_13TeV_amcatnloFXFX_madspin_pythia8_mWCutfix/NANOAODSIM/PUMoriond17_Nano1June2019_102X_mcRun2_asymptotic_v7_ext1-v1/100000/A922DC1E-905C-0240-81D7-8470159370D4.root',\n",
    "#                      'root://xcache//store/mc/RunIISummer16NanoAODv5/ttHJetToNonbb_M125_13TeV_amcatnloFXFX_madspin_pythia8_mWCutfix/NANOAODSIM/PUMoriond17_Nano1June2019_102X_mcRun2_asymptotic_v7_ext1-v1/100000/C6BD7A39-4592-F84F-99FB-52C1BBC3F066.root',\n",
    "#                      'root://xcache//store/mc/RunIISummer16NanoAODv5/ttHJetToNonbb_M125_13TeV_amcatnloFXFX_madspin_pythia8_mWCutfix/NANOAODSIM/PUMoriond17_Nano1June2019_102X_mcRun2_asymptotic_v7_ext1-v1/100000/EE7FEAE7-21B8-4547-A0C7-589B3DDA0704.root',\n",
    "#                      'root://xcache//store/mc/RunIISummer16NanoAODv5/ttHJetToNonbb_M125_13TeV_amcatnloFXFX_madspin_pythia8_mWCutfix/NANOAODSIM/PUMoriond17_Nano1June2019_102X_mcRun2_asymptotic_v7_ext1-v1/100000/F5A64CA8-059C-4D46-A2C4-9B679A4B911F.root',\n",
    "#                      'root://xcache//store/mc/RunIISummer16NanoAODv5/ttHJetToNonbb_M125_13TeV_amcatnloFXFX_madspin_pythia8_mWCutfix/NANOAODSIM/PUMoriond17_Nano1June2019_102X_mcRun2_asymptotic_v7_ext1-v1/120000/83CB02F7-FFA9-CD47-9EE6-4D444843595E.root'],\n",
    "#             'WZ': ['root://xcache//store/mc/RunIISummer16NanoAODv5/WZTo3LNu_TuneCUETP8M1_13TeV-powheg-pythia8/NANOAODSIM/PUMoriond17_Nano1June2019_102X_mcRun2_asymptotic_v7-v1/120000/222071C0-CF04-1E4B-B65E-49D18B91DE8B.root',\n",
    "#                      'root://xcache//store/mc/RunIISummer16NanoAODv5/WZTo3LNu_TuneCUETP8M1_13TeV-powheg-pythia8/NANOAODSIM/PUMoriond17_Nano1June2019_102X_mcRun2_asymptotic_v7-v1/120000/7EC09E9F-A061-6D46-83DB-E91A8479CD7A.root',\n",
    "#                      'root://xcache//store/mc/RunIISummer16NanoAODv5/WZTo3LNu_TuneCUETP8M1_13TeV-powheg-pythia8/NANOAODSIM/PUMoriond17_Nano1June2019_102X_mcRun2_asymptotic_v7-v1/120000/9FA39757-C2AB-F34E-A2E8-3D728B605FD1.root',\n",
    "#                      'root://xcache//store/mc/RunIISummer16NanoAODv5/WZTo3LNu_TuneCUETP8M1_13TeV-powheg-pythia8/NANOAODSIM/PUMoriond17_Nano1June2019_102X_mcRun2_asymptotic_v7-v1/120000/E539344F-0815-064E-BFB2-14D265A460FA.root',\n",
    "#                      'root://xcache//store/mc/RunIISummer16NanoAODv5/WZTo3LNu_TuneCUETP8M1_13TeV-powheg-pythia8/NANOAODSIM/PUMoriond17_Nano1June2019_102X_mcRun2_asymptotic_v7_ext1-v1/110000/0571F847-7582-0D43-A65D-BB1DF150BE77.root',\n",
    "#                      'root://xcache//store/mc/RunIISummer16NanoAODv5/WZTo3LNu_TuneCUETP8M1_13TeV-powheg-pythia8/NANOAODSIM/PUMoriond17_Nano1June2019_102X_mcRun2_asymptotic_v7_ext1-v1/110000/1875117C-8380-0C45-A701-B221443E9010.root',\n",
    "#                      'root://xcache//store/mc/RunIISummer16NanoAODv5/WZTo3LNu_TuneCUETP8M1_13TeV-powheg-pythia8/NANOAODSIM/PUMoriond17_Nano1June2019_102X_mcRun2_asymptotic_v7_ext1-v1/110000/23490416-1F0E-364F-B5D9-7F7C92360277.root',\n",
    "#                      'root://xcache//store/mc/RunIISummer16NanoAODv5/WZTo3LNu_TuneCUETP8M1_13TeV-powheg-pythia8/NANOAODSIM/PUMoriond17_Nano1June2019_102X_mcRun2_asymptotic_v7_ext1-v1/110000/423A6069-CE53-A94F-8D9F-75342F9F9273.root',\n",
    "#                      'root://xcache//store/mc/RunIISummer16NanoAODv5/WZTo3LNu_TuneCUETP8M1_13TeV-powheg-pythia8/NANOAODSIM/PUMoriond17_Nano1June2019_102X_mcRun2_asymptotic_v7_ext1-v1/110000/42816FAA-2580-7146-93BE-C9482FC56E5F.root',\n",
    "#                      'root://xcache//store/mc/RunIISummer16NanoAODv5/WZTo3LNu_TuneCUETP8M1_13TeV-powheg-pythia8/NANOAODSIM/PUMoriond17_Nano1June2019_102X_mcRun2_asymptotic_v7_ext1-v1/110000/4DCA8EC5-BC5C-3447-8A91-C21142F57775.root',\n",
    "#                      'root://xcache//store/mc/RunIISummer16NanoAODv5/WZTo3LNu_TuneCUETP8M1_13TeV-powheg-pythia8/NANOAODSIM/PUMoriond17_Nano1June2019_102X_mcRun2_asymptotic_v7_ext1-v1/110000/4F6290B2-15A7-C840-8544-26FBA7D62129.root',\n",
    "#                      'root://xcache//store/mc/RunIISummer16NanoAODv5/WZTo3LNu_TuneCUETP8M1_13TeV-powheg-pythia8/NANOAODSIM/PUMoriond17_Nano1June2019_102X_mcRun2_asymptotic_v7_ext1-v1/110000/62527AE1-E838-BF44-AA33-C145C74F2196.root',\n",
    "#                      'root://xcache//store/mc/RunIISummer16NanoAODv5/WZTo3LNu_TuneCUETP8M1_13TeV-powheg-pythia8/NANOAODSIM/PUMoriond17_Nano1June2019_102X_mcRun2_asymptotic_v7_ext1-v1/110000/64F0D9CB-C675-3F49-ACE2-E06CD5CFFA13.root',\n",
    "#                      'root://xcache//store/mc/RunIISummer16NanoAODv5/WZTo3LNu_TuneCUETP8M1_13TeV-powheg-pythia8/NANOAODSIM/PUMoriond17_Nano1June2019_102X_mcRun2_asymptotic_v7_ext1-v1/110000/669C5D12-E263-0E41-9F49-B277198FA882.root',\n",
    "#                      'root://xcache//store/mc/RunIISummer16NanoAODv5/WZTo3LNu_TuneCUETP8M1_13TeV-powheg-pythia8/NANOAODSIM/PUMoriond17_Nano1June2019_102X_mcRun2_asymptotic_v7_ext1-v1/110000/788641E9-D641-0F40-AC0D-69E335F7E04D.root',\n",
    "#                      'root://xcache//store/mc/RunIISummer16NanoAODv5/WZTo3LNu_TuneCUETP8M1_13TeV-powheg-pythia8/NANOAODSIM/PUMoriond17_Nano1June2019_102X_mcRun2_asymptotic_v7_ext1-v1/110000/A2DCB4B2-9A3B-6049-B845-8BC13C623736.root',\n",
    "#                      'root://xcache//store/mc/RunIISummer16NanoAODv5/WZTo3LNu_TuneCUETP8M1_13TeV-powheg-pythia8/NANOAODSIM/PUMoriond17_Nano1June2019_102X_mcRun2_asymptotic_v7_ext1-v1/110000/B5189B28-6A9D-9240-A943-830C76F1C4CE.root',\n",
    "#                      'root://xcache//store/mc/RunIISummer16NanoAODv5/WZTo3LNu_TuneCUETP8M1_13TeV-powheg-pythia8/NANOAODSIM/PUMoriond17_Nano1June2019_102X_mcRun2_asymptotic_v7_ext1-v1/110000/CFBDFA7E-FA6A-9E40-976A-5E2CAE843CE2.root',\n",
    "#                      'root://xcache//store/mc/RunIISummer16NanoAODv5/WZTo3LNu_TuneCUETP8M1_13TeV-powheg-pythia8/NANOAODSIM/PUMoriond17_Nano1June2019_102X_mcRun2_asymptotic_v7_ext1-v1/110000/D52DFC49-0016-2941-BEB6-7958728B782E.root',\n",
    "#                      'root://xcache//store/mc/RunIISummer16NanoAODv5/WZTo3LNu_TuneCUETP8M1_13TeV-powheg-pythia8/NANOAODSIM/PUMoriond17_Nano1June2019_102X_mcRun2_asymptotic_v7_ext1-v1/110000/DD34D24C-D3E4-6046-AA01-EDF356AC83CB.root',\n",
    "#                      'root://xcache//store/mc/RunIISummer16NanoAODv5/WZTo3LNu_TuneCUETP8M1_13TeV-powheg-pythia8/NANOAODSIM/PUMoriond17_Nano1June2019_102X_mcRun2_asymptotic_v7_ext1-v1/110000/E4035DC3-ACD2-0440-805F-F8C46406E0A0.root',\n",
    "#                      'root://xcache//store/mc/RunIISummer16NanoAODv5/WZTo3LNu_TuneCUETP8M1_13TeV-powheg-pythia8/NANOAODSIM/PUMoriond17_Nano1June2019_102X_mcRun2_asymptotic_v7_ext1-v1/110000/FED349E0-72BB-7E4F-B776-F9BB8C278B27.root'],\n",
    "#             'ZZ': ['root://xcache//store/mc/RunIISummer16NanoAODv5/ZZTo4L_13TeV_powheg_pythia8/NANOAODSIM/PUMoriond17_Nano1June2019_102X_mcRun2_asymptotic_v7-v1/30000/010B000A-0883-064B-B250-A6159DB2603A.root',\n",
    "#                      'root://xcache//store/mc/RunIISummer16NanoAODv5/ZZTo4L_13TeV_powheg_pythia8/NANOAODSIM/PUMoriond17_Nano1June2019_102X_mcRun2_asymptotic_v7-v1/30000/1B4E5034-DD6A-DB40-882D-20B5C42A9722.root',\n",
    "#                      'root://xcache//store/mc/RunIISummer16NanoAODv5/ZZTo4L_13TeV_powheg_pythia8/NANOAODSIM/PUMoriond17_Nano1June2019_102X_mcRun2_asymptotic_v7-v1/30000/462F4643-6F37-EA42-8F6C-90B91C23A731.root',\n",
    "#                      'root://xcache//store/mc/RunIISummer16NanoAODv5/ZZTo4L_13TeV_powheg_pythia8/NANOAODSIM/PUMoriond17_Nano1June2019_102X_mcRun2_asymptotic_v7-v1/30000/465A6EA9-E768-E642-8A73-B27E21BD3595.root',\n",
    "#                      'root://xcache//store/mc/RunIISummer16NanoAODv5/ZZTo4L_13TeV_powheg_pythia8/NANOAODSIM/PUMoriond17_Nano1June2019_102X_mcRun2_asymptotic_v7-v1/30000/46E99F08-CB4C-914F-9CF0-1A9E7DCE8081.root',\n",
    "#                      'root://xcache//store/mc/RunIISummer16NanoAODv5/ZZTo4L_13TeV_powheg_pythia8/NANOAODSIM/PUMoriond17_Nano1June2019_102X_mcRun2_asymptotic_v7-v1/30000/73D0D73F-E72D-E649-8772-2BECC3D296D7.root',\n",
    "#                      'root://xcache//store/mc/RunIISummer16NanoAODv5/ZZTo4L_13TeV_powheg_pythia8/NANOAODSIM/PUMoriond17_Nano1June2019_102X_mcRun2_asymptotic_v7-v1/30000/773BDDB0-D100-DA4B-8522-17EB71265BEE.root',\n",
    "#                      'root://xcache//store/mc/RunIISummer16NanoAODv5/ZZTo4L_13TeV_powheg_pythia8/NANOAODSIM/PUMoriond17_Nano1June2019_102X_mcRun2_asymptotic_v7-v1/30000/D08D925B-BA30-3642-9995-F165FC2542D7.root',\n",
    "#                      'root://xcache//store/mc/RunIISummer16NanoAODv5/ZZTo4L_13TeV_powheg_pythia8/NANOAODSIM/PUMoriond17_Nano1June2019_102X_mcRun2_asymptotic_v7-v1/30000/DC582D74-81EF-504C-8342-08D42BB17C38.root',\n",
    "#                      'root://xcache//store/mc/RunIISummer16NanoAODv5/ZZTo4L_13TeV_powheg_pythia8/NANOAODSIM/PUMoriond17_Nano1June2019_102X_mcRun2_asymptotic_v7-v1/30000/FD274208-7DF0-3245-945F-87B17415142E.root'],\n",
    "#             'ZZZ': ['root://xcache//store/mc/RunIISummer16NanoAODv5/ZZZ_TuneCUETP8M1_13TeV-amcatnlo-pythia8/NANOAODSIM/PUMoriond17_Nano1June2019_102X_mcRun2_asymptotic_v7-v1/250000/37FA68CC-B841-7D41-994C-645CFA4BA227.root'],\n",
    "#             'WWZ': ['root://xcache//store/mc/RunIISummer16NanoAODv5/WWZ_TuneCUETP8M1_13TeV-amcatnlo-pythia8/NANOAODSIM/PUMoriond17_Nano1June2019_102X_mcRun2_asymptotic_v7-v1/70000/8034D852-4E18-F441-B1B7-3A4BA82B8963.root',\n",
    "#                      'root://xcache//store/mc/RunIISummer16NanoAODv5/WWZ_TuneCUETP8M1_13TeV-amcatnlo-pythia8/NANOAODSIM/PUMoriond17_Nano1June2019_102X_mcRun2_asymptotic_v7-v1/70000/EE791322-C349-A14A-B49A-75BDAA03482E.root'],\n",
    "#             'WZZ': ['root://xcache//store/mc/RunIISummer16NanoAODv5/WZZ_TuneCUETP8M1_13TeV-amcatnlo-pythia8/NANOAODSIM/PUMoriond17_Nano1June2019_102X_mcRun2_asymptotic_v7-v1/100000/4359B067-2773-4D48-A235-CD33C3A20AD9.root',\n",
    "#                      'root://xcache//store/mc/RunIISummer16NanoAODv5/WZZ_TuneCUETP8M1_13TeV-amcatnlo-pythia8/NANOAODSIM/PUMoriond17_Nano1June2019_102X_mcRun2_asymptotic_v7-v1/100000/50D0F171-4A01-644A-A1D9-6BF1D915DF2A.root',\n",
    "#                      'root://xcache//store/mc/RunIISummer16NanoAODv5/WZZ_TuneCUETP8M1_13TeV-amcatnlo-pythia8/NANOAODSIM/PUMoriond17_Nano1June2019_102X_mcRun2_asymptotic_v7-v1/100000/61EDBB45-0A24-1847-9FD6-222D7D8D6AF3.root'],\n",
    "#             'tttt': ['root://xcache//store/mc/RunIISummer16NanoAODv5/TTTT_TuneCUETP8M1_13TeV-amcatnlo-pythia8/NANOAODSIM/PUMoriond17_Nano1June2019_102X_mcRun2_asymptotic_v7-v1/250000/E23424C4-B553-114D-A9F2-9E2F21D641F6.root',\n",
    "#                      'root://xcache//store/mc/RunIISummer16NanoAODv5/TTTT_TuneCUETP8M1_13TeV-amcatnlo-pythia8/NANOAODSIM/PUMoriond17_Nano1June2019_102X_mcRun2_asymptotic_v7-v1/250000/ED3B459F-A945-C847-9B80-B847C3487049.root'],\n",
    "#             'WpWp': ['root://xcache//store/mc/RunIISummer16NanoAODv5/WpWpJJ_EWK-QCD_TuneCUETP8M1_13TeV-madgraph-pythia8/NANOAODSIM/PUMoriond17_Nano1June2019_102X_mcRun2_asymptotic_v7-v1/120000/025F6345-BE37-DF45-B582-25EA8300B4E8.root'],\n",
    "          }"
   ]
  },
  {
   "cell_type": "code",
   "execution_count": 3,
   "metadata": {},
   "outputs": [],
   "source": [
    "from itertools import combinations\n",
    "\n",
    "# This is a helper function which adds muon (0) and electron (1) identifiers to a stacked lepton JaggedArray.\n",
    "def make_labeled_p4(x, indices, itype):\n",
    "    p4 = TLorentzVectorArray.from_ptetaphim(x.pt, x.eta, x.phi, x.mass)\n",
    "    return ak.JaggedArray.zip(p4=p4,\n",
    "                              ptype=itype*x.pt.ones_like().astype(np.int),\n",
    "                              pidx=indices,\n",
    "                              charge=x.charge)\n",
    "\n",
    "# This generates a stacked lepton JaggedArray, allowing combination of both muons and electrons for computations across flavor.\n",
    "def stack_leptons(muons, electrons):\n",
    "    # Construct new lepton indices within every event array.\n",
    "    muons_indices = ak.JaggedArray.fromoffsets(muons.pt.offsets, \n",
    "                                             np.arange(0, muons.pt.content.size)) - muons.pt.offsets[:-1]\n",
    "    electrons_indices = ak.JaggedArray.fromoffsets(electrons.pt.offsets, \n",
    "                                             np.arange(0, electrons.pt.content.size)) - electrons.pt.offsets[:-1]\n",
    "    # Assign 0/1 value depending on whether lepton is muon/electron.\n",
    "    muons_p4 = make_labeled_p4(muons, muons_indices, 0)\n",
    "    electrons_p4 = make_labeled_p4(electrons, electrons_indices, 1)\n",
    "    # Concatenate leptons.\n",
    "    stacked_p4 = ak.concatenate((muons_p4, electrons_p4), axis=1)\n",
    "    \n",
    "    return stacked_p4\n",
    "\n",
    "# Helper function which takes a pair, tells you if it is an OSSF with |m_ll - m_z| < 15. Reject these events.\n",
    "def ossf_zmass_check(dileptons):\n",
    "    return ((dileptons.i0.charge != dileptons.i1.charge) & \n",
    "            (np.abs(91.18 - (dileptons.i0 + dileptons.i1).mass) < 15.)).any()"
   ]
  },
  {
   "cell_type": "code",
   "execution_count": 4,
   "metadata": {},
   "outputs": [],
   "source": [
    "def discriminators(leptons, jets, loose_wp, medium_wp, dataset):\n",
    "    # Construct light and bjets for easier manipulation.\n",
    "    loose_jets = jets[(jets.btagCSVV2 < loose_wp)]\n",
    "    nonloose_jets = jets[(jets.btagCSVV2 > loose_wp)]\n",
    "    \n",
    "    # lll data selection\n",
    "    # Our goal is to construct jagged arrays which each have 1 element per event. None are empty by event selection.\n",
    "    nJet25 = jets[(jets.pt > 25) & (np.abs(jets.eta) < 2.4)].counts\n",
    "    \n",
    "    MaxEtaJet25 = nonloose_jets[nonloose_jets.pt > 25]\n",
    "    MaxEtaJet25 = MaxEtaJet25.eta[MaxEtaJet25.eta.argmax()]\n",
    "    \n",
    "    totCharge = leptons.charge.sum()\n",
    "    \n",
    "    nJetEta1 = nonloose_jets[np.abs(nonloose_jets.eta) > 1.0].counts\n",
    "    \n",
    "    fwdLightJet = loose_jets[loose_jets.eta.argmax()]\n",
    "    hardestLooseJet = loose_jets[loose_jets.pt.argmax()]\n",
    "    detaFwdJetBJet = np.abs(fwdLightJet.eta - hardestLooseJet.eta)\n",
    "    \n",
    "    nexthardestLooseJet = loose_jets[~loose_jets.pt.argmax()]\n",
    "    nexthardestLooseJet = nexthardestLooseJet[nexthardestLooseJet.pt.argmax()]\n",
    "    detaFwdJet2BJet = np.abs(fwdLightJet.eta - nexthardestLooseJet.eta)\n",
    "    \n",
    "    crossLepJet = leptons.cross(fwdLightJet)\n",
    "    crossLepJetdR = crossLepJet.i0.p4.delta_r(crossLepJet.i1)\n",
    "    nearestLepton = leptons[crossLepJetdR.argmin()]\n",
    "    detaFwdJetClosestLep = np.abs(fwdLightJet.eta - nearestLepton.p4.eta)\n",
    "    \n",
    "    pairs = leptons.choose(2)\n",
    "    pairs = pairs[pairs.i0.charge == pairs.i1.charge]\n",
    "    hardestPairs = pairs[(pairs.i0.p4.mass + pairs.i1.p4.mass).argmax()]\n",
    "    dphiHighestPtSSPair = np.abs(hardestPairs.i0.p4.phi - hardestPairs.i1.p4.phi)\n",
    "    \n",
    "    DR = pairs.i0.p4.delta_r(pairs.i1.p4)\n",
    "    minDRll = DR[DR.argmin()]\n",
    "    \n",
    "    LepLastPt = leptons.p4.pt[leptons.p4.pt.argmin()]\n",
    "    \n",
    "    dataset_label = np.repeat(dataset, totCharge.size)\n",
    "    \n",
    "    return nJet25.flatten(), MaxEtaJet25.flatten(), totCharge.flatten(), nJetEta1.flatten(), detaFwdJetBJet.flatten(), detaFwdJet2BJet.flatten(), detaFwdJetClosestLep.flatten(), dphiHighestPtSSPair.flatten(), minDRll.flatten(), LepLastPt.flatten(), dataset_label.flatten()"
   ]
  },
  {
   "cell_type": "code",
   "execution_count": 5,
   "metadata": {
    "scrolled": true
   },
   "outputs": [],
   "source": [
    "class SignalProcessor(processor.ProcessorABC):\n",
    "    def __init__(self):\n",
    "        dataset_axis = hist.Cat(\"dataset\", \"\")\n",
    "        lll_Lep3Pt_axis = hist.Bin(\"lll_Lep3Pt\", \"3rd Lepton $p_T$ [GeV]\", 18, 0, 90)\n",
    "        lll_detaFwdJetBJet_axis = hist.Bin(\"lll_detaFwdJetBJet\", \"$\\Delta \\eta$ max fwd jet and leading bjet\", 18, 0, 6)\n",
    "        lll_detaFwdJet2BJet_axis = hist.Bin(\"lll_detaFwdJet2BJet\", \"$\\Delta \\eta$ max fwd jet and sub-leading bjet\", 18, 0, 6)\n",
    "        lll_detaFwdJetClosestLep_axis = hist.Bin(\"lll_detaFwdJetClosestLep\", \"$\\Delta \\eta$ max fwd jet and closest lepton\", 18, 0, 6)\n",
    "        lll_dphiHighestPtSSPair_axis = hist.Bin(\"lll_dphiHighestPtSSPair\", \"$\\Delta \\Phi$ highest $p_T$ same-sign lepton pair\", 18, 0, 3.5)\n",
    "        lll_MaxEtaJet25_axis = hist.Bin(\"lll_MaxEtaJet25\", \"max jet $|\\eta|$ ($p_T$ > 25)\", 18, 0, 5)\n",
    "        lll_minDRll_axis = hist.Bin(\"lll_minDRll\", \"Minimum $\\Delta$ R between any two leptons\", 18, 0, 4)\n",
    "        lll_nJet25_axis = hist.Bin(\"lll_nJet25\", \"N(jet, $p_T$ > 25, $|\\eta|$ < 2.4)\", 6, 2, 8)\n",
    "        lll_nJetEta1_axis = hist.Bin(\"lll_nJetEta1\", \"N(jet, $|\\eta|$ > 1) non CSV medium\", 7, 1, 8)        \n",
    "        lll_totCharge_axis = hist.Bin(\"lll_totCharge\", \"Total Lepton Charge\", 5, -2, 3)\n",
    "        \n",
    "        ll_Lep2Pt_axis = hist.Bin(\"ll_Lep2Pt\", \"Sub-leading Lepton $p_T$ [GeV]\", 18, 0, 144)\n",
    "        ll_detaFwdJetBJet_axis = hist.Bin(\"ll_detaFwdJetBJet\", \"$\\Delta \\eta$ max fwd jet and leading bjet\", 18, 0, 6)\n",
    "        ll_detaFwdJet2BJet_axis = hist.Bin(\"ll_detaFwdJet2BJet\", \"$\\Delta \\eta$ max fwd jet and sub-leading bjet\", 18, 0, 6)\n",
    "        ll_detaFwdJetClosestLep_axis = hist.Bin(\"ll_detaFwdJetClosestLep\", \"$\\Delta \\eta$ max fwd jet and closest lepton\", 18, 0, 6)\n",
    "        ll_dphiHighestPtSSPair_axis = hist.Bin(\"ll_dphiHighestPtSSPair\", \"$\\Delta \\Phi$ highest $p_T$ same-sign lepton pair\", 18, 0, 3.5)\n",
    "        ll_MaxEtaJet25_axis = hist.Bin(\"ll_MaxEtaJet25\", \"max jet $|\\eta|$ ($p_T$ > 40)\", 18, 0, 5)\n",
    "        ll_minDRll_axis = hist.Bin(\"ll_minDRll\", \"Minimum $\\Delta$ R between any two leptons\", 18, 0, 4)\n",
    "        ll_nJet25_axis = hist.Bin(\"ll_nJet25\", \"N(jet, $p_T$ > 25, $|\\eta|$ < 2.4)\", 6, 2, 8)\n",
    "        ll_nJetEta1_axis = hist.Bin(\"ll_nJetEta1\", \"N(jet, $|\\eta|$ > 1) non CSV medium\", 7, 1, 8)        \n",
    "        ll_totCharge_axis = hist.Bin(\"ll_totCharge\", \"Total Lepton Charge\", 5, -2, 3)\n",
    "        \n",
    "        # Accumulator for data. Can only have one accumulator, so we store our hists accumulator as a key inside of our data accumulator.\n",
    "        self._accumulator = processor.dict_accumulator({\n",
    "            'hists': processor.dict_accumulator({'lll_Lep3Pt': hist.Hist(\"Events\", dataset_axis, lll_Lep3Pt_axis),\n",
    "                'lll_detaFwdJetBJet': hist.Hist(\"Events\", dataset_axis, lll_detaFwdJetBJet_axis),\n",
    "                'lll_detaFwdJet2BJet': hist.Hist(\"Events\", dataset_axis, lll_detaFwdJet2BJet_axis),\n",
    "                'lll_detaFwdJetClosestLep': hist.Hist(\"Events\", dataset_axis, lll_detaFwdJetClosestLep_axis),\n",
    "                'lll_dphiHighestPtSSPair': hist.Hist(\"Events\", dataset_axis, lll_dphiHighestPtSSPair_axis),\n",
    "                'lll_MaxEtaJet25': hist.Hist(\"Events\", dataset_axis, lll_MaxEtaJet25_axis),\n",
    "                'lll_minDRll': hist.Hist(\"Events\", dataset_axis, lll_minDRll_axis),\n",
    "                'lll_nJet25': hist.Hist(\"Events\", dataset_axis, lll_nJet25_axis),\n",
    "                'lll_nJetEta1': hist.Hist(\"Events\", dataset_axis, lll_nJetEta1_axis),\n",
    "                'lll_totCharge': hist.Hist(\"Events\", dataset_axis, lll_totCharge_axis),\n",
    "                'll_Lep2Pt': hist.Hist(\"Events\", dataset_axis, ll_Lep2Pt_axis),\n",
    "                'll_detaFwdJetBJet': hist.Hist(\"Events\", dataset_axis, ll_detaFwdJetBJet_axis),\n",
    "                'll_detaFwdJet2BJet': hist.Hist(\"Events\", dataset_axis, ll_detaFwdJet2BJet_axis),\n",
    "                'll_detaFwdJetClosestLep': hist.Hist(\"Events\", dataset_axis, ll_detaFwdJetClosestLep_axis),\n",
    "                'll_dphiHighestPtSSPair': hist.Hist(\"Events\", dataset_axis, ll_dphiHighestPtSSPair_axis),\n",
    "                'll_MaxEtaJet25': hist.Hist(\"Events\", dataset_axis, ll_MaxEtaJet25_axis),\n",
    "                'll_minDRll': hist.Hist(\"Events\", dataset_axis, ll_minDRll_axis),\n",
    "                'll_nJet25': hist.Hist(\"Events\", dataset_axis, ll_nJet25_axis),\n",
    "                'll_nJetEta1': hist.Hist(\"Events\", dataset_axis, ll_nJetEta1_axis),\n",
    "                'll_totCharge': hist.Hist(\"Events\", dataset_axis, ll_totCharge_axis)}),\n",
    "            'll_nJet25': processor.column_accumulator(np.array([])),\n",
    "            'll_MaxEtaJet25': processor.column_accumulator(np.array([])),\n",
    "            'll_totCharge': processor.column_accumulator(np.array([])),\n",
    "            'll_nJetEta1': processor.column_accumulator(np.array([])),\n",
    "            'll_detaFwdJetBJet': processor.column_accumulator(np.array([])),\n",
    "            'll_detaFwdJet2BJet': processor.column_accumulator(np.array([])),\n",
    "            'll_detaFwdJetClosestLep': processor.column_accumulator(np.array([])),\n",
    "            'll_dphiHighestPtSSPair': processor.column_accumulator(np.array([])),\n",
    "            'll_minDRll': processor.column_accumulator(np.array([])),\n",
    "            'll_Lep2Pt': processor.column_accumulator(np.array([])),\n",
    "            'll_dataset': processor.column_accumulator(np.array([])),\n",
    "            'lll_nJet25': processor.column_accumulator(np.array([])),\n",
    "            'lll_MaxEtaJet25': processor.column_accumulator(np.array([])),\n",
    "            'lll_totCharge': processor.column_accumulator(np.array([])),\n",
    "            'lll_nJetEta1': processor.column_accumulator(np.array([])),\n",
    "            'lll_detaFwdJetBJet': processor.column_accumulator(np.array([])),\n",
    "            'lll_detaFwdJet2BJet': processor.column_accumulator(np.array([])),\n",
    "            'lll_detaFwdJetClosestLep': processor.column_accumulator(np.array([])),\n",
    "            'lll_dphiHighestPtSSPair': processor.column_accumulator(np.array([])),\n",
    "            'lll_minDRll': processor.column_accumulator(np.array([])),\n",
    "            'lll_Lep3Pt': processor.column_accumulator(np.array([])),\n",
    "            'lll_dataset': processor.column_accumulator(np.array([])),\n",
    "            'cutflow': processor.defaultdict_accumulator(int)\n",
    "        })\n",
    "    @property\n",
    "    def accumulator(self):\n",
    "        return self._accumulator\n",
    "    \n",
    "    def process(self, events):\n",
    "        output = self.accumulator.identity()\n",
    "        \n",
    "        # btag working point numbers, for easy reference.\n",
    "        loose_wp = 0.5425\n",
    "        medium_wp = 0.8484\n",
    "\n",
    "        # Initialize relevant event columns.\n",
    "        dataset = events.metadata[\"dataset\"]\n",
    "        jets = events.Jet\n",
    "        muons = events.Muon\n",
    "        electrons = events.Electron\n",
    "\n",
    "        # This is bookkeeping that tracks how many total events there are.        \n",
    "        output['cutflow']['all events'] += events.size\n",
    "        \n",
    "        # # # # # # # # # # #\n",
    "        # LEPTON SELECTIONS #\n",
    "        # # # # # # # # # # #\n",
    "        \n",
    "        # Don't want any jets below 25 pT. Remove them now instead of later.\n",
    "        jets = jets[(jets.pt > 25)]\n",
    "        \n",
    "        # Here we establish the loose muons array, based on provided cuts.\n",
    "        loose_muons = muons[(np.abs(muons.eta) < 2.4) &\n",
    "                      (np.abs(muons.dxy) < 0.05) & \n",
    "                      (np.abs(muons.dz) < 0.1) & \n",
    "                      (muons.sip3d < 8) &\n",
    "                      (muons.miniPFRelIso_all < 0.4) &\n",
    "                      (muons.looseId) &\n",
    "                      (muons.pt > 5)]\n",
    "        \n",
    "        # Tight is loose with additional cuts; build tight array and add cuts.\n",
    "        tight_muons = loose_muons[(loose_muons.tightCharge > 0) &\n",
    "                                  (loose_muons.mediumId) &\n",
    "                                  (loose_muons.mvaTTH > 0.9)]\n",
    "\n",
    "        # This ends up getting referenced a lot. Let's not generate it every time!\n",
    "        abs_eta = np.abs(electrons.eta)\n",
    "        \n",
    "        # Here we establish the loose electrons array, based on provided cuts.\n",
    "        loose_electrons = electrons[(abs_eta < 2.5) & \n",
    "                              (np.abs(electrons.dxy) < 0.05) & \n",
    "                              (np.abs(electrons.dz) < 0.1) & \n",
    "                              (electrons.lostHits < 2) &\n",
    "                              (electrons.miniPFRelIso_all < 0.4) &\n",
    "                              (electrons.pt > 7) &\n",
    "                              (((electrons.mvaFall17V2noIso > 0) & (abs_eta < 1.479)) | ((electrons.mvaFall17V2noIso > 0.7) & (abs_eta > 1.479) & (abs_eta < 2.5)))]\n",
    "            \n",
    "        # Now we build tight from loose, adding in tight's extra cuts.\n",
    "        # Redefine abs_eta since we're now using loose.\n",
    "        abs_eta = np.abs(loose_electrons.eta)\n",
    "        \n",
    "        tight_electrons = loose_electrons[(loose_electrons.pt > 15) &\n",
    "                                         (loose_electrons.lostHits == 0) &\n",
    "                                         (loose_electrons.tightCharge > 0) &\n",
    "                                         (loose_electrons.convVeto) &\n",
    "                                         (loose_electrons.mvaTTH > 0.90) &\n",
    "                                         # Two ranges for sigma_ieie.\n",
    "                                         (((abs_eta < 1.479) & (loose_electrons.sieie < 0.011)) | \n",
    "                                         ((abs_eta < 2.5) & (abs_eta > 1.479) & (loose_electrons.sieie < 0.03))) &\n",
    "                                         # Two ranges for H/E\n",
    "                                         (((abs_eta < 1.479) & (loose_electrons.hoe < 0.1)) | \n",
    "                                         ((abs_eta < 2.5) & (abs_eta > 1.479) & (loose_electrons.hoe < 0.07))) &\n",
    "                                         # Two ranges for 1/E - 1/p\n",
    "                                         (((abs_eta < 1.479) & (loose_electrons.eInvMinusPInv < 0.01) & (loose_electrons.eInvMinusPInv > -0.05)) |\n",
    "                                         ((abs_eta < 2.5) & (abs_eta > 1.479) & (loose_electrons.eInvMinusPInv < 0.005) & (loose_electrons.eInvMinusPInv > -0.05)))]        \n",
    "        \n",
    "        \n",
    "\n",
    "        # # # # # # # # # #\n",
    "        # EVENT SELECTION #\n",
    "        # # # # # # # # # #\n",
    "        \n",
    "        # Loose pre-selection. See definition of stack_leptons above to see how we construct arrays across leptons.\n",
    "        loose_leptons = stack_leptons(loose_muons, loose_electrons)\n",
    "        loose_pairs = loose_leptons.argchoose(2)\n",
    "        loose_pairs_mass = (loose_leptons[loose_pairs.i0].p4 + loose_leptons[loose_pairs.i1].p4).mass\n",
    "        looseMask = ((loose_pairs_mass >= 12).all() & (loose_pairs_mass.counts > 0))\n",
    "        \n",
    "        # Dilepton selection.\n",
    "        tight_leptons = stack_leptons(tight_muons, tight_electrons)\n",
    "        tight_pairs = tight_leptons.argchoose(2)\n",
    "        # Add types to see what kind of pair we have. mu = 0, e = 1, so: mumu = 0, emu = 1, ee = 2.\n",
    "        tight_types = (tight_leptons[tight_pairs.i0].ptype + tight_leptons[tight_pairs.i1].ptype)\n",
    "        \n",
    "        # Respectively; each event should have exactly 1 pair (2 leptons) with same charge\n",
    "        #               one should have pT > 25 (pT > 15 is guaranteed by lepton selection)\n",
    "        #               for ee events, check that mass from Z is < 10 to veto possible Z bosons.\n",
    "        dileptonMask = ((tight_pairs.counts == 1) & (tight_leptons[tight_pairs.i0].charge == tight_leptons[tight_pairs.i1].charge).any()) & ((tight_leptons[tight_pairs.i0].p4.pt > 25) | (tight_leptons[tight_pairs.i1].p4.pt > 25)).any() & ((tight_types < 2) | (np.abs((tight_leptons[tight_pairs.i0].p4 + tight_leptons[tight_pairs.i1].p4).mass - 91.18) > 10)).any()\n",
    "        \n",
    "        # Trilepton selection.\n",
    "        tight_triples = tight_leptons.argchoose(3)\n",
    "        tight_muon_pairs = tight_muons.choose(2)\n",
    "        tight_electron_pairs = tight_electrons.choose(2)\n",
    "        \n",
    "        # Respectively; we want events with exactly three tight leptons (one triple),\n",
    "        #               one should have pT > 25, discard if OSSF dileptons are close to the Z mass.\n",
    "        trileptonMask = (tight_triples.counts == 1) & ((tight_leptons[tight_triples.i0].p4.pt > 25) | (tight_leptons[tight_triples.i1].p4.pt > 25) | (tight_leptons[tight_triples.i2].p4.pt > 25)).any() & (~ossf_zmass_check(tight_muon_pairs)) & (~ossf_zmass_check(tight_electron_pairs))\n",
    "        \n",
    "        # Jet masks can be generated much more simply, since we're staying in one collection.\n",
    "        jetMask_medium = ((np.abs(jets.eta) < 2.4) & (jets.btagCSVV2 > medium_wp)).sum() >= 1\n",
    "        jetMask_loose = (((np.abs(jets.eta) < 2.4) | ((jets.pt > 40) & (np.abs(jets.eta) > 2.4))) & (jets.btagCSVV2 <= loose_wp)).sum() >= 1\n",
    "        \n",
    "        # May as well combine all of our masks into one (well, two) big one(s) for easier referencing.\n",
    "        # Split dileptons and trileptons into separate channels, because it's easier to work with later.\n",
    "        dilepton_eventMask = (looseMask) & (dileptonMask) & (jetMask_medium) & (jetMask_loose)\n",
    "        trilepton_eventMask = (looseMask) & (trileptonMask) & (jetMask_medium) & (jetMask_loose)\n",
    "                  \n",
    "        # Should be able to generalize this to ll_channel, lll_channel, and use NanoEvents at event level\n",
    "        # when awkward1 is implemented into Coffea! That'll be much simpler :)\n",
    "        leptons = stack_leptons(tight_muons, tight_electrons)\n",
    "        ll_leptons = leptons[dilepton_eventMask]\n",
    "        ll_jets = jets[dilepton_eventMask]\n",
    "        lll_leptons = leptons[trilepton_eventMask]\n",
    "        lll_jets = jets[trilepton_eventMask]\n",
    " \n",
    "        (ll_nJet25, ll_MaxEtaJet25, ll_totCharge, ll_nJetEta1, \n",
    "         ll_detaFwdJetBJet, ll_detaFwdJet2BJet, ll_detaFwdJetClosestLep, \n",
    "         ll_dphiHighestPtSSPair, ll_minDRll, ll_Lep2Pt, ll_dataset_label) = discriminators(ll_leptons, ll_jets, loose_wp, medium_wp, dataset)\n",
    "\n",
    "        (lll_nJet25, lll_MaxEtaJet25, lll_totCharge, lll_nJetEta1, \n",
    "         lll_detaFwdJetBJet, lll_detaFwdJet2BJet, lll_detaFwdJetClosestLep, \n",
    "         lll_dphiHighestPtSSPair, lll_minDRll, lll_Lep3Pt, lll_dataset_label) = discriminators(lll_leptons, lll_jets, loose_wp, medium_wp, dataset)        \n",
    "\n",
    "        # # # # # \n",
    "        # HISTS #\n",
    "        # # # # #\n",
    "        \n",
    "        output['hists']['lll_Lep3Pt'].fill(dataset=dataset, lll_Lep3Pt=lll_Lep3Pt.flatten())\n",
    "        output['hists']['lll_detaFwdJetBJet'].fill(dataset=dataset, lll_detaFwdJetBJet=lll_detaFwdJetBJet.flatten())\n",
    "        output['hists']['lll_detaFwdJet2BJet'].fill(dataset=dataset, lll_detaFwdJet2BJet=lll_detaFwdJet2BJet.flatten())\n",
    "        output['hists']['lll_detaFwdJetClosestLep'].fill(dataset=dataset, lll_detaFwdJetClosestLep=lll_detaFwdJetClosestLep.flatten())\n",
    "        output['hists']['lll_dphiHighestPtSSPair'].fill(dataset=dataset, lll_dphiHighestPtSSPair=lll_dphiHighestPtSSPair.flatten())\n",
    "        output['hists']['lll_MaxEtaJet25'].fill(dataset=dataset, lll_MaxEtaJet25=lll_MaxEtaJet25.flatten())\n",
    "        output['hists']['lll_minDRll'].fill(dataset=dataset, lll_minDRll=lll_minDRll.flatten())\n",
    "        output['hists']['lll_nJet25'].fill(dataset=dataset, lll_nJet25=lll_nJet25.flatten()) # bin indices?\n",
    "        output['hists']['lll_nJetEta1'].fill(dataset=dataset, lll_nJetEta1=lll_nJetEta1.flatten())\n",
    "        output['hists']['lll_totCharge'].fill(dataset=dataset, lll_totCharge=lll_totCharge.flatten())\n",
    "        \n",
    "        output['hists']['ll_Lep2Pt'].fill(dataset=dataset, ll_Lep2Pt=ll_Lep2Pt.flatten())\n",
    "        output['hists']['ll_detaFwdJetBJet'].fill(dataset=dataset, ll_detaFwdJetBJet=ll_detaFwdJet2BJet.flatten())\n",
    "        output['hists']['ll_detaFwdJet2BJet'].fill(dataset=dataset, ll_detaFwdJet2BJet=ll_detaFwdJet2BJet.flatten())\n",
    "        output['hists']['ll_detaFwdJetClosestLep'].fill(dataset=dataset, ll_detaFwdJetClosestLep=ll_detaFwdJetClosestLep.flatten())\n",
    "        output['hists']['ll_dphiHighestPtSSPair'].fill(dataset=dataset, ll_dphiHighestPtSSPair=ll_dphiHighestPtSSPair.flatten())\n",
    "        output['hists']['ll_MaxEtaJet25'].fill(dataset=dataset, ll_MaxEtaJet25=ll_MaxEtaJet25.flatten())\n",
    "        output['hists']['ll_minDRll'].fill(dataset=dataset, ll_minDRll=ll_minDRll.flatten())\n",
    "        output['hists']['ll_nJet25'].fill(dataset=dataset, ll_nJet25=ll_nJet25.flatten())\n",
    "        output['hists']['ll_nJetEta1'].fill(dataset=dataset, ll_nJetEta1=ll_nJetEta1.flatten())\n",
    "        output['hists']['ll_totCharge'].fill(dataset=dataset, ll_totCharge=ll_totCharge.flatten())\n",
    "        \n",
    "        # # # # # # # # # # #\n",
    "        # DATA ACCUMULATION #\n",
    "        # # # # # # # # # # #\n",
    "        \n",
    "        output['ll_nJet25'] += processor.column_accumulator(ll_nJet25)\n",
    "        output['ll_MaxEtaJet25'] += processor.column_accumulator(ll_MaxEtaJet25)\n",
    "        output['ll_totCharge'] += processor.column_accumulator(ll_totCharge)\n",
    "        output['ll_nJetEta1'] += processor.column_accumulator(ll_nJetEta1)\n",
    "        output['ll_detaFwdJetBJet'] += processor.column_accumulator(ll_detaFwdJetBJet)\n",
    "        output['ll_detaFwdJet2BJet'] += processor.column_accumulator(ll_detaFwdJet2BJet)\n",
    "        output['ll_detaFwdJetClosestLep'] += processor.column_accumulator(ll_detaFwdJetClosestLep)\n",
    "        output['ll_dphiHighestPtSSPair'] += processor.column_accumulator(ll_dphiHighestPtSSPair)\n",
    "        output['ll_minDRll'] += processor.column_accumulator(ll_minDRll)\n",
    "        output['ll_Lep2Pt'] += processor.column_accumulator(ll_Lep2Pt)\n",
    "        output['ll_dataset'] += processor.column_accumulator(ll_dataset_label)\n",
    "        \n",
    "        output['lll_nJet25'] += processor.column_accumulator(lll_nJet25)\n",
    "        output['lll_MaxEtaJet25'] += processor.column_accumulator(lll_MaxEtaJet25)\n",
    "        output['lll_totCharge'] += processor.column_accumulator(lll_totCharge)\n",
    "        output['lll_nJetEta1'] += processor.column_accumulator(lll_nJetEta1)\n",
    "        output['lll_detaFwdJetBJet'] += processor.column_accumulator(lll_detaFwdJetBJet)\n",
    "        output['lll_detaFwdJet2BJet'] += processor.column_accumulator(lll_detaFwdJet2BJet)\n",
    "        output['lll_detaFwdJetClosestLep'] += processor.column_accumulator(lll_detaFwdJetClosestLep)\n",
    "        output['lll_dphiHighestPtSSPair'] += processor.column_accumulator(lll_dphiHighestPtSSPair)\n",
    "        output['lll_minDRll'] += processor.column_accumulator(lll_minDRll)\n",
    "        output['lll_Lep3Pt'] += processor.column_accumulator(lll_Lep3Pt)\n",
    "        output['lll_dataset'] += processor.column_accumulator(lll_dataset_label)\n",
    "        \n",
    "        return output\n",
    "\n",
    "    def postprocess(self, accumulator):\n",
    "        lum = 35900\n",
    "        \n",
    "        # Calculations for hist scaling are below.\n",
    "        cross_sec = {'tHq': 0.7927,\n",
    "                    'tHW': 0.1472,\n",
    "                     'ttW': 0.6105,\n",
    "                     'ttWJets': 0.2043,\n",
    "                     'ttZ': 0.2529,\n",
    "                     'ttZJets': 0.5297,\n",
    "                     'ttH': 0.2151,\n",
    "                     'WZ': 4.4296,\n",
    "                     'ZZ': 1.256,\n",
    "                     'ZZZ': 0.01398,\n",
    "                     'WWZ': 0.1651,\n",
    "                     'WZZ': 0.05565,\n",
    "                     'tttt': 0.009103,\n",
    "                     'WpWp': 0.03711\n",
    "                    }\n",
    "        eventries = {}\n",
    "        weights = {}\n",
    "        \n",
    "        for key in fileset:\n",
    "            eventries[key] = uproot.numentries(fileset[key], 'Events')\n",
    "            weights[key] = (lum*cross_sec[key])/eventries[key]\n",
    "            \n",
    "        print(eventries)\n",
    "        print('Total: ', sum(eventries.values()))\n",
    "\n",
    "        rebinned = hist.Cat('rebinned', 'rebinned')\n",
    "        for key in accumulator['hists']:\n",
    "            # Scales each dataset along the dataset axis according to weights above.\n",
    "            accumulator['hists'][key].scale(weights, axis='dataset')\n",
    "            # Combines keys after scaling.\n",
    "            accumulator['hists'][key] = accumulator['hists'][key].group('dataset', rebinned, {'tHq': ['tHq'], \n",
    "                                                                           'tHW': ['tHW'],\n",
    "                                                                           'ttW': ['ttW', 'ttWJets'],\n",
    "#                                                                                'ttZ': ['ttZ', 'ttZJets'],\n",
    "#                                                                                'ttH': ['ttH'],\n",
    "#                                                                                'WZ': ['WZ'],\n",
    "#                                                                                'ZZ': ['ZZ'],\n",
    "#                                                                                'VVV': ['ZZZ', 'WWZ', 'WZZ'],\n",
    "#                                                                                'tttt': ['tttt'],\n",
    "#                                                                                'WpWp': ['WpWp'],\n",
    "                                                                          })\n",
    "        return accumulator"
   ]
  },
  {
   "cell_type": "markdown",
   "metadata": {},
   "source": [
    "The below block of code runs our processor on the Dask-based CoffeaCasaCluster(). This executes all code in the processor above, outputting an accumulator, which, in our case, is a dictionary. This dictionary includes a 'hists' key with histogram data (for easy plotting), some book-keeping counts under the 'cutflow' key, and data in all other keys."
   ]
  },
  {
   "cell_type": "code",
   "execution_count": 6,
   "metadata": {
    "scrolled": true
   },
   "outputs": [
    {
     "name": "stdout",
     "output_type": "stream",
     "text": [
      "{'protocol': 'tls://', 'security': Security(require_encryption=True, tls_ca_file='/etc/cmsaf-secrets/ca.pem', tls_client_cert='/etc/cmsaf-secrets/hostcert.pem', tls_client_key='/etc/cmsaf-secrets/hostcert.pem', tls_scheduler_cert='/etc/cmsaf-secrets/hostcert.pem', tls_scheduler_key='/etc/cmsaf-secrets/hostcert.pem', tls_worker_cert='/etc/cmsaf-secrets/hostcert.pem', tls_worker_key='/etc/cmsaf-secrets/hostcert.pem'), 'log_directory': 'logs', 'silence_logs': 'DEBUG', 'scheduler_options': {'port': 8786, 'dashboard_address': '8787', 'protocol': 'tls', 'external_address': 'tls://matousadamec-40gmail-2ecom.dask.coffea.casa:8786'}, 'job_extra': {'universe': 'docker', 'docker_image': 'coffeateam/coffea-casa-analysis:0.2.23', 'container_service_names': 'dask', 'dask_container_port': 8786, 'transfer_input_files': '/etc/cmsaf-secrets/ca.pem, /etc/cmsaf-secrets/hostcert.pem, /etc/cmsaf-secrets/xcache_token', 'encrypt_input_files': '/etc/cmsaf-secrets/ca.pem, /etc/cmsaf-secrets/hostcert.pem, /etc/cmsaf-secrets/xcache_token', 'transfer_output_files': '', 'when_to_transfer_output': 'ON_EXIT', 'should_transfer_files': 'YES', 'Stream_Output': 'False', 'Stream_Error': 'False', '+DaskSchedulerAddress': '\"tls://matousadamec-40gmail-2ecom.dask.coffea.casa:8786\"'}}\n"
     ]
    },
    {
     "name": "stderr",
     "output_type": "stream",
     "text": [
      "distributed.scheduler - INFO - Clear task state\n",
      "distributed.scheduler - INFO -   Scheduler at: tls://192.168.182.107:8786\n",
      "distributed.scheduler - INFO -   dashboard at:                     :8787\n",
      "distributed.scheduler - INFO - Receive client connection: Client-b351e289-f78d-11ea-bfd3-96e922d720ba\n",
      "distributed.core - INFO - Starting established connection\n"
     ]
    },
    {
     "name": "stdout",
     "output_type": "stream",
     "text": [
      "[                                        ] | 0% Completed | 33.9s"
     ]
    },
    {
     "name": "stderr",
     "output_type": "stream",
     "text": [
      "distributed.scheduler - INFO - Register worker <Worker 'tls://129.93.182.120:32775', name: htcondor--8169634.0--, memory: 0, processing: 30>\n",
      "distributed.scheduler - INFO - Starting worker compute stream, tls://129.93.182.120:32775\n",
      "distributed.core - INFO - Starting established connection\n"
     ]
    },
    {
     "name": "stdout",
     "output_type": "stream",
     "text": [
      "[                                        ] | 0% Completed | 34.2s"
     ]
    },
    {
     "name": "stderr",
     "output_type": "stream",
     "text": [
      "distributed.scheduler - INFO - Register worker <Worker 'tls://129.93.182.124:32775', name: htcondor--8169635.0--, memory: 0, processing: 0>\n",
      "distributed.scheduler - INFO - Starting worker compute stream, tls://129.93.182.124:32775\n",
      "distributed.core - INFO - Starting established connection\n",
      "distributed.scheduler - INFO - Register worker <Worker 'tls://129.93.182.123:32773', name: htcondor--8169636.0--, memory: 0, processing: 0>\n",
      "distributed.scheduler - INFO - Starting worker compute stream, tls://129.93.182.123:32773\n",
      "distributed.core - INFO - Starting established connection\n"
     ]
    },
    {
     "name": "stdout",
     "output_type": "stream",
     "text": [
      "[                                        ] | 0% Completed | 35.3s"
     ]
    },
    {
     "name": "stderr",
     "output_type": "stream",
     "text": [
      "distributed.scheduler - INFO - Register worker <Worker 'tls://129.93.182.85:32774', name: htcondor--8169633.0--, memory: 0, processing: 0>\n",
      "distributed.scheduler - INFO - Starting worker compute stream, tls://129.93.182.85:32774\n",
      "distributed.core - INFO - Starting established connection\n"
     ]
    },
    {
     "name": "stdout",
     "output_type": "stream",
     "text": [
      "[########                                ] | 21% Completed | 45.1s"
     ]
    },
    {
     "name": "stderr",
     "output_type": "stream",
     "text": [
      "distributed.scheduler - INFO - Retire worker names ('htcondor--8169636.0--',)\n",
      "distributed.scheduler - INFO - Retire workers {<Worker 'tls://129.93.182.123:32773', name: htcondor--8169636.0--, memory: 1, processing: 7>}\n",
      "distributed.scheduler - INFO - Moving 1 keys to other workers\n"
     ]
    },
    {
     "name": "stdout",
     "output_type": "stream",
     "text": [
      "[#################################       ] | 84% Completed | 50.6s"
     ]
    },
    {
     "name": "stderr",
     "output_type": "stream",
     "text": [
      "distributed.scheduler - INFO - Remove worker <Worker 'tls://129.93.182.123:32773', name: htcondor--8169636.0--, memory: 7, processing: 0>\n",
      "distributed.core - INFO - Removing comms to tls://129.93.182.123:32773\n"
     ]
    },
    {
     "name": "stdout",
     "output_type": "stream",
     "text": [
      "[###################################     ] | 87% Completed | 50.8s"
     ]
    },
    {
     "name": "stderr",
     "output_type": "stream",
     "text": [
      "distributed.scheduler - INFO - Retire worker names ('htcondor--8169633.0--',)\n",
      "distributed.scheduler - INFO - Retire workers {<Worker 'tls://129.93.182.85:32774', name: htcondor--8169633.0--, memory: 5, processing: 2>}\n",
      "distributed.scheduler - INFO - Moving 5 keys to other workers\n"
     ]
    },
    {
     "name": "stdout",
     "output_type": "stream",
     "text": [
      "[###################################     ] | 87% Completed | 51.0s"
     ]
    },
    {
     "name": "stderr",
     "output_type": "stream",
     "text": [
      "distributed.scheduler - INFO - Remove worker <Worker 'tls://129.93.182.85:32774', name: htcondor--8169633.0--, memory: 5, processing: 2>\n",
      "distributed.core - INFO - Removing comms to tls://129.93.182.85:32774\n"
     ]
    },
    {
     "name": "stdout",
     "output_type": "stream",
     "text": [
      "[                                        ] | 1% Completed |  9.1s4s"
     ]
    },
    {
     "name": "stderr",
     "output_type": "stream",
     "text": [
      "distributed.scheduler - INFO - Register worker <Worker 'tls://129.93.182.123:32774', name: htcondor--8169637.0--, memory: 0, processing: 0>\n",
      "distributed.scheduler - INFO - Starting worker compute stream, tls://129.93.182.123:32774\n",
      "distributed.core - INFO - Starting established connection\n"
     ]
    },
    {
     "name": "stdout",
     "output_type": "stream",
     "text": [
      "[                                        ] | 1% Completed | 11.4s"
     ]
    },
    {
     "name": "stderr",
     "output_type": "stream",
     "text": [
      "distributed.scheduler - INFO - Register worker <Worker 'tls://129.93.182.85:32775', name: htcondor--8169638.0--, memory: 0, processing: 0>\n",
      "distributed.scheduler - INFO - Starting worker compute stream, tls://129.93.182.85:32775\n",
      "distributed.core - INFO - Starting established connection\n"
     ]
    },
    {
     "name": "stdout",
     "output_type": "stream",
     "text": [
      "[#                                       ] | 2% Completed | 51.2s"
     ]
    },
    {
     "name": "stderr",
     "output_type": "stream",
     "text": [
      "distributed.core - INFO - Event loop was unresponsive in Scheduler for 13.77s.  This is often caused by long-running GIL-holding functions or moving large chunks of data. This can cause timeouts and instability.\n"
     ]
    },
    {
     "name": "stdout",
     "output_type": "stream",
     "text": [
      "[#####                                   ] | 12% Completed |  1min  3.1s"
     ]
    },
    {
     "name": "stderr",
     "output_type": "stream",
     "text": [
      "distributed.scheduler - INFO - Register worker <Worker 'tls://129.93.182.122:32774', name: htcondor--8169643.0--, memory: 0, processing: 0>\n",
      "distributed.scheduler - INFO - Starting worker compute stream, tls://129.93.182.122:32774\n",
      "distributed.core - INFO - Starting established connection\n"
     ]
    },
    {
     "name": "stdout",
     "output_type": "stream",
     "text": [
      "[#####                                   ] | 12% Completed |  1min  3.6s"
     ]
    },
    {
     "name": "stderr",
     "output_type": "stream",
     "text": [
      "distributed.scheduler - INFO - Register worker <Worker 'tls://129.93.182.105:32770', name: htcondor--8169649.0--, memory: 0, processing: 0>\n",
      "distributed.scheduler - INFO - Starting worker compute stream, tls://129.93.182.105:32770\n",
      "distributed.core - INFO - Starting established connection\n"
     ]
    },
    {
     "name": "stdout",
     "output_type": "stream",
     "text": [
      "[#####                                   ] | 13% Completed |  1min  4.3s"
     ]
    },
    {
     "name": "stderr",
     "output_type": "stream",
     "text": [
      "distributed.scheduler - INFO - Register worker <Worker 'tls://129.93.182.124:32776', name: htcondor--8169641.0--, memory: 0, processing: 0>\n",
      "distributed.scheduler - INFO - Starting worker compute stream, tls://129.93.182.124:32776\n",
      "distributed.core - INFO - Starting established connection\n"
     ]
    },
    {
     "name": "stdout",
     "output_type": "stream",
     "text": [
      "[#####                                   ] | 13% Completed |  1min  4.4s"
     ]
    },
    {
     "name": "stderr",
     "output_type": "stream",
     "text": [
      "distributed.scheduler - INFO - Register worker <Worker 'tls://129.93.182.86:32773', name: htcondor--8169645.0--, memory: 0, processing: 0>\n",
      "distributed.scheduler - INFO - Starting worker compute stream, tls://129.93.182.86:32773\n",
      "distributed.core - INFO - Starting established connection\n"
     ]
    },
    {
     "name": "stdout",
     "output_type": "stream",
     "text": [
      "[#####                                   ] | 13% Completed |  1min  4.5s"
     ]
    },
    {
     "name": "stderr",
     "output_type": "stream",
     "text": [
      "distributed.scheduler - INFO - Register worker <Worker 'tls://129.93.182.82:32773', name: htcondor--8169644.0--, memory: 0, processing: 0>\n",
      "distributed.scheduler - INFO - Starting worker compute stream, tls://129.93.182.82:32773\n",
      "distributed.core - INFO - Starting established connection\n",
      "distributed.scheduler - INFO - Register worker <Worker 'tls://129.93.182.85:32776', name: htcondor--8169639.0--, memory: 0, processing: 0>\n",
      "distributed.scheduler - INFO - Starting worker compute stream, tls://129.93.182.85:32776\n",
      "distributed.core - INFO - Starting established connection\n",
      "distributed.scheduler - INFO - Register worker <Worker 'tls://129.93.182.123:32775', name: htcondor--8169642.0--, memory: 0, processing: 0>\n",
      "distributed.scheduler - INFO - Starting worker compute stream, tls://129.93.182.123:32775\n",
      "distributed.core - INFO - Starting established connection\n"
     ]
    },
    {
     "name": "stdout",
     "output_type": "stream",
     "text": [
      "[#####                                   ] | 13% Completed |  1min  5.0s"
     ]
    },
    {
     "name": "stderr",
     "output_type": "stream",
     "text": [
      "distributed.scheduler - INFO - Register worker <Worker 'tls://129.93.182.120:32776', name: htcondor--8169640.0--, memory: 0, processing: 0>\n",
      "distributed.scheduler - INFO - Starting worker compute stream, tls://129.93.182.120:32776\n",
      "distributed.core - INFO - Starting established connection\n"
     ]
    },
    {
     "name": "stdout",
     "output_type": "stream",
     "text": [
      "[#####                                   ] | 13% Completed |  1min  5.8s"
     ]
    },
    {
     "name": "stderr",
     "output_type": "stream",
     "text": [
      "distributed.scheduler - INFO - Register worker <Worker 'tls://129.93.182.113:32771', name: htcondor--8169648.0--, memory: 0, processing: 0>\n",
      "distributed.scheduler - INFO - Starting worker compute stream, tls://129.93.182.113:32771\n",
      "distributed.core - INFO - Starting established connection\n"
     ]
    },
    {
     "name": "stdout",
     "output_type": "stream",
     "text": [
      "[#####                                   ] | 13% Completed |  1min  6.3s"
     ]
    },
    {
     "name": "stderr",
     "output_type": "stream",
     "text": [
      "distributed.scheduler - INFO - Register worker <Worker 'tls://129.93.182.109:32771', name: htcondor--8169647.0--, memory: 0, processing: 0>\n",
      "distributed.scheduler - INFO - Starting worker compute stream, tls://129.93.182.109:32771\n",
      "distributed.core - INFO - Starting established connection\n"
     ]
    },
    {
     "name": "stdout",
     "output_type": "stream",
     "text": [
      "[######                                  ] | 16% Completed |  1min  7.4s"
     ]
    },
    {
     "name": "stderr",
     "output_type": "stream",
     "text": [
      "distributed.scheduler - INFO - Register worker <Worker 'tls://129.93.182.3:32773', name: htcondor--8169646.0--, memory: 0, processing: 0>\n",
      "distributed.scheduler - INFO - Starting worker compute stream, tls://129.93.182.3:32773\n",
      "distributed.core - INFO - Starting established connection\n"
     ]
    },
    {
     "name": "stdout",
     "output_type": "stream",
     "text": [
      "[#######                                 ] | 17% Completed |  1min 14.4s"
     ]
    },
    {
     "name": "stderr",
     "output_type": "stream",
     "text": [
      "distributed.scheduler - INFO - Retire worker names ('htcondor--8169634.0--',)\n",
      "distributed.scheduler - INFO - Retire workers {<Worker 'tls://129.93.182.120:32775', name: htcondor--8169634.0--, memory: 6, processing: 4>}\n",
      "distributed.scheduler - INFO - Moving 5 keys to other workers\n"
     ]
    },
    {
     "name": "stdout",
     "output_type": "stream",
     "text": [
      "[#######                                 ] | 18% Completed |  1min 15.8s"
     ]
    },
    {
     "name": "stderr",
     "output_type": "stream",
     "text": [
      "distributed.comm.tcp - WARNING - Closing dangling stream in <TLS  local=tls://192.168.182.107:57632 remote=tls://129.93.182.109:32771>\n"
     ]
    },
    {
     "name": "stdout",
     "output_type": "stream",
     "text": [
      "[#########                               ] | 24% Completed |  1min 18.8s"
     ]
    },
    {
     "name": "stderr",
     "output_type": "stream",
     "text": [
      "distributed.scheduler - INFO - Remove worker <Worker 'tls://129.93.182.120:32775', name: htcondor--8169634.0--, memory: 6, processing: 4>\n",
      "distributed.core - INFO - Removing comms to tls://129.93.182.120:32775\n"
     ]
    },
    {
     "name": "stdout",
     "output_type": "stream",
     "text": [
      "[#########                               ] | 24% Completed |  1min 19.0s"
     ]
    },
    {
     "name": "stderr",
     "output_type": "stream",
     "text": [
      "distributed.scheduler - INFO - Retire worker names ('htcondor--8169635.0--',)\n",
      "distributed.scheduler - INFO - Retire workers {<Worker 'tls://129.93.182.124:32775', name: htcondor--8169635.0--, memory: 5, processing: 4>}\n",
      "distributed.scheduler - INFO - Moving 4 keys to other workers\n"
     ]
    },
    {
     "name": "stdout",
     "output_type": "stream",
     "text": [
      "[#########                               ] | 24% Completed |  1min 19.2s"
     ]
    },
    {
     "name": "stderr",
     "output_type": "stream",
     "text": [
      "distributed.scheduler - INFO - Remove worker <Worker 'tls://129.93.182.124:32775', name: htcondor--8169635.0--, memory: 5, processing: 4>\n",
      "distributed.core - INFO - Removing comms to tls://129.93.182.124:32775\n"
     ]
    },
    {
     "name": "stdout",
     "output_type": "stream",
     "text": [
      "[##########                              ] | 25% Completed |  1min 26.5s"
     ]
    },
    {
     "name": "stderr",
     "output_type": "stream",
     "text": [
      "distributed.scheduler - INFO - Register worker <Worker 'tls://129.93.182.85:32777', name: htcondor--8169650.0--, memory: 0, processing: 0>\n",
      "distributed.scheduler - INFO - Starting worker compute stream, tls://129.93.182.85:32777\n",
      "distributed.core - INFO - Starting established connection\n"
     ]
    },
    {
     "name": "stdout",
     "output_type": "stream",
     "text": [
      "[###########                             ] | 27% Completed |  1min 40.3s"
     ]
    },
    {
     "name": "stderr",
     "output_type": "stream",
     "text": [
      "distributed.scheduler - INFO - Retire worker names ('htcondor--8169637.0--',)\n",
      "distributed.scheduler - INFO - Retire workers {<Worker 'tls://129.93.182.123:32774', name: htcondor--8169637.0--, memory: 6, processing: 4>}\n",
      "distributed.scheduler - INFO - Moving 5 keys to other workers\n"
     ]
    },
    {
     "name": "stdout",
     "output_type": "stream",
     "text": [
      "[###########                             ] | 27% Completed |  1min 40.4s"
     ]
    },
    {
     "name": "stderr",
     "output_type": "stream",
     "text": [
      "distributed.scheduler - INFO - Remove worker <Worker 'tls://129.93.182.123:32774', name: htcondor--8169637.0--, memory: 6, processing: 4>\n",
      "distributed.core - INFO - Removing comms to tls://129.93.182.123:32774\n"
     ]
    },
    {
     "name": "stdout",
     "output_type": "stream",
     "text": [
      "[#############                           ] | 32% Completed |  1min 46.4s"
     ]
    },
    {
     "name": "stderr",
     "output_type": "stream",
     "text": [
      "distributed.scheduler - INFO - Retire worker names ('htcondor--8169638.0--',)\n",
      "distributed.scheduler - INFO - Retire workers {<Worker 'tls://129.93.182.85:32775', name: htcondor--8169638.0--, memory: 5, processing: 4>}\n",
      "distributed.scheduler - INFO - Moving 4 keys to other workers\n"
     ]
    },
    {
     "name": "stdout",
     "output_type": "stream",
     "text": [
      "[#############                           ] | 32% Completed |  1min 46.5s"
     ]
    },
    {
     "name": "stderr",
     "output_type": "stream",
     "text": [
      "distributed.scheduler - INFO - Remove worker <Worker 'tls://129.93.182.85:32775', name: htcondor--8169638.0--, memory: 5, processing: 4>\n",
      "distributed.core - INFO - Removing comms to tls://129.93.182.85:32775\n"
     ]
    },
    {
     "name": "stdout",
     "output_type": "stream",
     "text": [
      "[###############                         ] | 37% Completed |  1min 54.4s"
     ]
    },
    {
     "name": "stderr",
     "output_type": "stream",
     "text": [
      "distributed.scheduler - INFO - Retire worker names ('htcondor--8169650.0--',)\n",
      "distributed.scheduler - INFO - Retire workers {<Worker 'tls://129.93.182.85:32777', name: htcondor--8169650.0--, memory: 2, processing: 4>}\n",
      "distributed.scheduler - INFO - Moving 1 keys to other workers\n"
     ]
    },
    {
     "name": "stdout",
     "output_type": "stream",
     "text": [
      "[###############                         ] | 37% Completed |  1min 54.5s"
     ]
    },
    {
     "name": "stderr",
     "output_type": "stream",
     "text": [
      "distributed.scheduler - INFO - Remove worker <Worker 'tls://129.93.182.85:32777', name: htcondor--8169650.0--, memory: 2, processing: 4>\n",
      "distributed.core - INFO - Removing comms to tls://129.93.182.85:32777\n"
     ]
    },
    {
     "name": "stdout",
     "output_type": "stream",
     "text": [
      "[#################                       ] | 43% Completed |  1min 56.4s"
     ]
    },
    {
     "name": "stderr",
     "output_type": "stream",
     "text": [
      "distributed.scheduler - INFO - Retire worker names ('htcondor--8169649.0--',)\n",
      "distributed.scheduler - INFO - Retire workers {<Worker 'tls://129.93.182.105:32770', name: htcondor--8169649.0--, memory: 3, processing: 4>}\n",
      "distributed.scheduler - INFO - Moving 2 keys to other workers\n"
     ]
    },
    {
     "name": "stdout",
     "output_type": "stream",
     "text": [
      "[#################                       ] | 43% Completed |  1min 56.9s"
     ]
    },
    {
     "name": "stderr",
     "output_type": "stream",
     "text": [
      "distributed.scheduler - INFO - Remove worker <Worker 'tls://129.93.182.105:32770', name: htcondor--8169649.0--, memory: 3, processing: 4>\n",
      "distributed.core - INFO - Removing comms to tls://129.93.182.105:32770\n"
     ]
    },
    {
     "name": "stdout",
     "output_type": "stream",
     "text": [
      "[####################                    ] | 50% Completed |  1min 59.3s"
     ]
    },
    {
     "name": "stderr",
     "output_type": "stream",
     "text": [
      "distributed.scheduler - INFO - Retire worker names ('htcondor--8169639.0--',)\n",
      "distributed.scheduler - INFO - Retire workers {<Worker 'tls://129.93.182.85:32776', name: htcondor--8169639.0--, memory: 7, processing: 4>}\n",
      "distributed.scheduler - INFO - Moving 6 keys to other workers\n"
     ]
    },
    {
     "name": "stdout",
     "output_type": "stream",
     "text": [
      "[####################                    ] | 50% Completed |  1min 59.5s"
     ]
    },
    {
     "name": "stderr",
     "output_type": "stream",
     "text": [
      "distributed.scheduler - INFO - Remove worker <Worker 'tls://129.93.182.85:32776', name: htcondor--8169639.0--, memory: 7, processing: 4>\n",
      "distributed.core - INFO - Removing comms to tls://129.93.182.85:32776\n"
     ]
    },
    {
     "name": "stdout",
     "output_type": "stream",
     "text": [
      "[#####################                   ] | 53% Completed |  2min  3.4s"
     ]
    },
    {
     "name": "stderr",
     "output_type": "stream",
     "text": [
      "distributed.scheduler - INFO - Retire worker names ('htcondor--8169648.0--',)\n",
      "distributed.scheduler - INFO - Retire workers {<Worker 'tls://129.93.182.113:32771', name: htcondor--8169648.0--, memory: 5, processing: 3>}\n",
      "distributed.scheduler - INFO - Moving 4 keys to other workers\n"
     ]
    },
    {
     "name": "stdout",
     "output_type": "stream",
     "text": [
      "[#####################                   ] | 54% Completed |  2min  3.5s"
     ]
    },
    {
     "name": "stderr",
     "output_type": "stream",
     "text": [
      "distributed.scheduler - INFO - Remove worker <Worker 'tls://129.93.182.113:32771', name: htcondor--8169648.0--, memory: 5, processing: 3>\n",
      "distributed.core - INFO - Removing comms to tls://129.93.182.113:32771\n"
     ]
    },
    {
     "name": "stdout",
     "output_type": "stream",
     "text": [
      "[######################                  ] | 56% Completed |  2min  4.3s"
     ]
    },
    {
     "name": "stderr",
     "output_type": "stream",
     "text": [
      "distributed.scheduler - INFO - Retire worker names ('htcondor--8169645.0--',)\n",
      "distributed.scheduler - INFO - Retire workers {<Worker 'tls://129.93.182.86:32773', name: htcondor--8169645.0--, memory: 6, processing: 4>}\n"
     ]
    },
    {
     "name": "stdout",
     "output_type": "stream",
     "text": [
      "[#######################                 ] | 58% Completed |  2min  4.4s"
     ]
    },
    {
     "name": "stderr",
     "output_type": "stream",
     "text": [
      "distributed.scheduler - INFO - Moving 5 keys to other workers\n"
     ]
    },
    {
     "name": "stdout",
     "output_type": "stream",
     "text": [
      "[#######################                 ] | 59% Completed |  2min  4.9s"
     ]
    },
    {
     "name": "stderr",
     "output_type": "stream",
     "text": [
      "distributed.scheduler - INFO - Remove worker <Worker 'tls://129.93.182.86:32773', name: htcondor--8169645.0--, memory: 6, processing: 4>\n",
      "distributed.core - INFO - Removing comms to tls://129.93.182.86:32773\n"
     ]
    },
    {
     "name": "stdout",
     "output_type": "stream",
     "text": [
      "[#########################               ] | 64% Completed |  2min 11.4s"
     ]
    },
    {
     "name": "stderr",
     "output_type": "stream",
     "text": [
      "distributed.scheduler - INFO - Retire worker names ('htcondor--8169646.0--',)\n",
      "distributed.scheduler - INFO - Retire workers {<Worker 'tls://129.93.182.3:32773', name: htcondor--8169646.0--, memory: 6, processing: 4>}\n",
      "distributed.scheduler - INFO - Moving 5 keys to other workers\n"
     ]
    },
    {
     "name": "stdout",
     "output_type": "stream",
     "text": [
      "[#########################               ] | 64% Completed |  2min 12.0s"
     ]
    },
    {
     "name": "stderr",
     "output_type": "stream",
     "text": [
      "distributed.scheduler - INFO - Remove worker <Worker 'tls://129.93.182.3:32773', name: htcondor--8169646.0--, memory: 6, processing: 4>\n",
      "distributed.core - INFO - Removing comms to tls://129.93.182.3:32773\n"
     ]
    },
    {
     "name": "stdout",
     "output_type": "stream",
     "text": [
      "[###########################             ] | 68% Completed |  2min 17.4s"
     ]
    },
    {
     "name": "stderr",
     "output_type": "stream",
     "text": [
      "distributed.scheduler - INFO - Retire worker names ('htcondor--8169642.0--',)\n",
      "distributed.scheduler - INFO - Retire workers {<Worker 'tls://129.93.182.123:32775', name: htcondor--8169642.0--, memory: 8, processing: 3>}\n",
      "distributed.scheduler - INFO - Moving 7 keys to other workers\n"
     ]
    },
    {
     "name": "stdout",
     "output_type": "stream",
     "text": [
      "[###########################             ] | 68% Completed |  2min 17.5s"
     ]
    },
    {
     "name": "stderr",
     "output_type": "stream",
     "text": [
      "distributed.scheduler - INFO - Remove worker <Worker 'tls://129.93.182.123:32775', name: htcondor--8169642.0--, memory: 8, processing: 3>\n",
      "distributed.core - INFO - Removing comms to tls://129.93.182.123:32775\n"
     ]
    },
    {
     "name": "stdout",
     "output_type": "stream",
     "text": [
      "[#############################           ] | 74% Completed |  2min 29.3s"
     ]
    },
    {
     "name": "stderr",
     "output_type": "stream",
     "text": [
      "distributed.scheduler - INFO - Retire worker names ('htcondor--8169641.0--',)\n",
      "distributed.scheduler - INFO - Retire workers {<Worker 'tls://129.93.182.124:32776', name: htcondor--8169641.0--, memory: 11, processing: 3>}\n",
      "distributed.scheduler - INFO - Moving 10 keys to other workers\n"
     ]
    },
    {
     "name": "stdout",
     "output_type": "stream",
     "text": [
      "[#############################           ] | 74% Completed |  2min 29.6s"
     ]
    },
    {
     "name": "stderr",
     "output_type": "stream",
     "text": [
      "distributed.scheduler - INFO - Remove worker <Worker 'tls://129.93.182.124:32776', name: htcondor--8169641.0--, memory: 11, processing: 3>\n",
      "distributed.core - INFO - Removing comms to tls://129.93.182.124:32776\n"
     ]
    },
    {
     "name": "stdout",
     "output_type": "stream",
     "text": [
      "{'tHq': 3495799, 'tHW': 1499200, 'ttW': 5280565, 'ttWJets': 6700440}28.1s\n",
      "Total:  16976004\n"
     ]
    }
   ],
   "source": [
    "from dask.distributed import Client\n",
    "from coffea_casa import CoffeaCasaCluster\n",
    "\n",
    "cluster = CoffeaCasaCluster()\n",
    "cluster.adapt(minimum=16, maximum=64)\n",
    "client = Client(cluster)\n",
    "\n",
    "output = processor.run_uproot_job(fileset=fileset, \n",
    "                       treename=\"Events\", \n",
    "                       processor_instance=SignalProcessor(),\n",
    "                       executor=processor.dask_executor,\n",
    "                       executor_args={'client': client, 'nano': True},\n",
    "                       chunksize=250000)\n",
    "\n",
    "# output = processor.run_uproot_job(fileset=fileset, \n",
    "#                         treename=\"Events\", \n",
    "#                         processor_instance=SignalProcessor(),\n",
    "#                         executor=processor.futures_executor,\n",
    "#                         executor_args={'workers': 8, 'nano': True},\n",
    "#                         chunksize=250000)"
   ]
  },
  {
   "cell_type": "markdown",
   "metadata": {},
   "source": [
    "# Analysis Time!\n",
    "\n",
    "We plot our hists, print our cutflow counts, then load our data into a Pandas dataframe."
   ]
  },
  {
   "cell_type": "code",
   "execution_count": 7,
   "metadata": {},
   "outputs": [],
   "source": [
    "from cycler import cycler\n",
    "colors = ['#99CC66', '#669966', '#CC6600', '#FF3300', '#FF9966', '#CC66FF', '#FFCC00', '#000000']\n",
    "\n",
    "\n",
    "stack = True\n",
    "clear = False\n",
    "fill_opts = None\n",
    "overlay = 'rebinned'"
   ]
  },
  {
   "cell_type": "code",
   "execution_count": 8,
   "metadata": {},
   "outputs": [
    {
     "name": "stdout",
     "output_type": "stream",
     "text": [
      "Three Lepton Channel\n"
     ]
    },
    {
     "data": {
      "image/png": "[encoded data removed]",
      "text/plain": [
       "<Figure size 432x288 with 1 Axes>"
      ]
     },
     "metadata": {
      "needs_background": "light"
     },
     "output_type": "display_data"
    },
    {
     "data": {
      "image/png": "[encoded data removed]",
      "text/plain": [
       "<Figure size 432x288 with 1 Axes>"
      ]
     },
     "metadata": {
      "needs_background": "light"
     },
     "output_type": "display_data"
    },
    {
     "data": {
      "image/png": "[encoded data removed]",
      "text/plain": [
       "<Figure size 432x288 with 1 Axes>"
      ]
     },
     "metadata": {
      "needs_background": "light"
     },
     "output_type": "display_data"
    },
    {
     "data": {
      "image/png": "[encoded data removed]",
      "text/plain": [
       "<Figure size 432x288 with 1 Axes>"
      ]
     },
     "metadata": {
      "needs_background": "light"
     },
     "output_type": "display_data"
    },
    {
     "data": {
      "image/png": "[encoded data removed]",
      "text/plain": [
       "<Figure size 432x288 with 1 Axes>"
      ]
     },
     "metadata": {
      "needs_background": "light"
     },
     "output_type": "display_data"
    },
    {
     "data": {
      "image/png": "[encoded data removed]",
      "text/plain": [
       "<Figure size 432x288 with 1 Axes>"
      ]
     },
     "metadata": {
      "needs_background": "light"
     },
     "output_type": "display_data"
    },
    {
     "data": {
      "image/png": "[encoded data removed]",
      "text/plain": [
       "<Figure size 432x288 with 1 Axes>"
      ]
     },
     "metadata": {
      "needs_background": "light"
     },
     "output_type": "display_data"
    },
    {
     "data": {
      "image/png": "[encoded data removed]",
      "text/plain": [
       "<Figure size 432x288 with 1 Axes>"
      ]
     },
     "metadata": {
      "needs_background": "light"
     },
     "output_type": "display_data"
    },
    {
     "data": {
      "image/png": "[encoded data removed]",
      "text/plain": [
       "<Figure size 432x288 with 1 Axes>"
      ]
     },
     "metadata": {
      "needs_background": "light"
     },
     "output_type": "display_data"
    },
    {
     "data": {
      "image/png": "[encoded data removed]",
      "text/plain": [
       "<Figure size 432x288 with 1 Axes>"
      ]
     },
     "metadata": {
      "needs_background": "light"
     },
     "output_type": "display_data"
    }
   ],
   "source": [
    "print('Three Lepton Channel')\n",
    "for key in output['hists'].keys():\n",
    "    if key.startswith('lll_'):\n",
    "        fig, ax = plt.subplots(1)\n",
    "        ax.set_prop_cycle(cycler(color=colors))\n",
    "        hist.plot1d(output['hists'][key], overlay=overlay, stack=stack, ax=ax, clear=clear, fill_opts=fill_opts)"
   ]
  },
  {
   "cell_type": "code",
   "execution_count": 9,
   "metadata": {},
   "outputs": [
    {
     "name": "stdout",
     "output_type": "stream",
     "text": [
      "Two SS Lepton Channel\n"
     ]
    },
    {
     "data": {
      "image/png": "[encoded data removed]",
      "text/plain": [
       "<Figure size 432x288 with 1 Axes>"
      ]
     },
     "metadata": {
      "needs_background": "light"
     },
     "output_type": "display_data"
    },
    {
     "data": {
      "image/png": "[encoded data removed]",
      "text/plain": [
       "<Figure size 432x288 with 1 Axes>"
      ]
     },
     "metadata": {
      "needs_background": "light"
     },
     "output_type": "display_data"
    },
    {
     "data": {
      "image/png": "[encoded data removed]",
      "text/plain": [
       "<Figure size 432x288 with 1 Axes>"
      ]
     },
     "metadata": {
      "needs_background": "light"
     },
     "output_type": "display_data"
    },
    {
     "data": {
      "image/png": "[encoded data removed]",
      "text/plain": [
       "<Figure size 432x288 with 1 Axes>"
      ]
     },
     "metadata": {
      "needs_background": "light"
     },
     "output_type": "display_data"
    },
    {
     "data": {
      "image/png": "[encoded data removed]",
      "text/plain": [
       "<Figure size 432x288 with 1 Axes>"
      ]
     },
     "metadata": {
      "needs_background": "light"
     },
     "output_type": "display_data"
    },
    {
     "data": {
      "image/png": "[encoded data removed]",
      "text/plain": [
       "<Figure size 432x288 with 1 Axes>"
      ]
     },
     "metadata": {
      "needs_background": "light"
     },
     "output_type": "display_data"
    },
    {
     "data": {
      "image/png": "[encoded data removed]",
      "text/plain": [
       "<Figure size 432x288 with 1 Axes>"
      ]
     },
     "metadata": {
      "needs_background": "light"
     },
     "output_type": "display_data"
    },
    {
     "data": {
      "image/png": "[encoded data removed]",
      "text/plain": [
       "<Figure size 432x288 with 1 Axes>"
      ]
     },
     "metadata": {
      "needs_background": "light"
     },
     "output_type": "display_data"
    },
    {
     "data": {
      "image/png": "[encoded data removed]",
      "text/plain": [
       "<Figure size 432x288 with 1 Axes>"
      ]
     },
     "metadata": {
      "needs_background": "light"
     },
     "output_type": "display_data"
    },
    {
     "data": {
      "image/png": "[encoded data removed]",
      "text/plain": [
       "<Figure size 432x288 with 1 Axes>"
      ]
     },
     "metadata": {
      "needs_background": "light"
     },
     "output_type": "display_data"
    }
   ],
   "source": [
    "print('Two SS Lepton Channel')\n",
    "for key in output['hists'].keys():\n",
    "    if key.startswith('ll_'):\n",
    "        fig, ax = plt.subplots(1)\n",
    "        ax.set_prop_cycle(cycler(color=colors))\n",
    "        hist.plot1d(output['hists'][key], overlay=overlay, stack=stack, ax=ax, clear=clear, fill_opts=fill_opts)"
   ]
  },
  {
   "cell_type": "code",
   "execution_count": 10,
   "metadata": {},
   "outputs": [
    {
     "name": "stdout",
     "output_type": "stream",
     "text": [
      "all events 16976004\n"
     ]
    }
   ],
   "source": [
    "for key, value in output['cutflow'].items():\n",
    "    print(key, value)"
   ]
  },
  {
   "cell_type": "code",
   "execution_count": 34,
   "metadata": {},
   "outputs": [
    {
     "data": {
      "text/plain": [
       "array([1, 1, 1, ..., 3, 3, 3])"
      ]
     },
     "execution_count": 34,
     "metadata": {},
     "output_type": "execute_result"
    }
   ],
   "source": [
    "import pandas as pd\n",
    "from sklearn.preprocessing import LabelEncoder\n",
    "\n",
    "df_ll = pd.DataFrame()\n",
    "df_lll = pd.DataFrame()\n",
    "for key in output:\n",
    "    if key.startswith('ll_'):\n",
    "        df_ll[key] = output[key].value\n",
    "    elif key.startswith('lll_'):\n",
    "        df_lll[key] = output[key].value\n",
    "        \n",
    "ll_target = df_ll['ll_dataset']\n",
    "ll_features = df_ll.drop('ll_dataset', axis=1)\n",
    "lll_target = df_lll['lll_dataset']\n",
    "lll_features = df_lll.drop('lll_dataset', axis=1)\n",
    "\n",
    "# Convert string data to numeric.\n",
    "label_encoder = LabelEncoder()\n",
    "label_encoder = label_encoder.fit(ll_target)\n",
    "label_encoder = label_encoder.fit(lll_target)\n",
    "ll_target_encoded = label_encoder.transform(ll_target)\n",
    "lll_target_encoded = label_encoder.transform(lll_target)"
   ]
  },
  {
   "cell_type": "code",
   "execution_count": null,
   "metadata": {},
   "outputs": [],
   "source": [
    "from sklearn.model_selection import train_test_split\n",
    "import xgboost as xgb\n",
    "\n",
    "# Apply later. May need to split these for ttbar, ttV?\n",
    "feature_weights = {}\n",
    "\n",
    "#** We should drop certain datasets before doing this, since we only want to consider particular ones!!\n",
    "ll_X_train, ll_X_test, ll_y_train, ll_y_test = train_test_split(ll_features, ll_target_encoded, test_size=0.5)\n",
    "lll_X_train, lll_X_test, lll_y_train, lll_y_test = train_test_split(lll_features, lll_target_encoded, test_size=0.5)\n",
    "\n",
    "ll_train_dmat = xgb.DMatrix(data=ll_X_train.values, label=ll_y_train)\n",
    "ll_test_dmat = xgb.DMatrix(data=ll_X_test.values, label=ll_y_test)\n",
    "lll_train_dmat = xgb.DMatrix(data=lll_X_train.values, label=lll_y_train)\n",
    "lll_test_dmat = xgb.DMatrix(data=lll_X_test.values, label=lll_y_test)"
   ]
  },
  {
   "cell_type": "code",
   "execution_count": null,
   "metadata": {},
   "outputs": [],
   "source": [
    "xg_reg = xgb.XGBClassifier(n_estimators=800, sampling_method='gradient_based', eta=0.1, max_depth=3) # nCuts=50?, weights treatment\n",
    "xg_reg.fit(ll_X_train, ll_y_train)\n",
    "preds = xg_reg.predict(ll_X_test, ll_y_test)"
   ]
  },
  {
   "cell_type": "code",
   "execution_count": null,
   "metadata": {},
   "outputs": [],
   "source": [
    "from sklearn.metrics import mean_squared_error\n",
    "rmse = np.sqrt(mean_squared_error(ll_y_test, preds))"
   ]
  },
  {
   "cell_type": "code",
   "execution_count": null,
   "metadata": {},
   "outputs": [],
   "source": []
  }
 ],
 "metadata": {
  "kernelspec": {
   "display_name": "Python 3",
   "language": "python",
   "name": "python3"
  },
  "language_info": {
   "codemirror_mode": {
    "name": "ipython",
    "version": 3
   },
   "file_extension": ".py",
   "mimetype": "text/x-python",
   "name": "python",
   "nbconvert_exporter": "python",
   "pygments_lexer": "ipython3",
   "version": "3.8.5"
  }
 },
 "nbformat": 4,
 "nbformat_minor": 4
}
